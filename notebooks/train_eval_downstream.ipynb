{
 "cells": [
  {
   "cell_type": "code",
   "execution_count": 19,
   "metadata": {},
   "outputs": [
    {
     "data": {
      "text/html": [
       "Tracking run with wandb version 0.19.6"
      ],
      "text/plain": [
       "<IPython.core.display.HTML object>"
      ]
     },
     "metadata": {},
     "output_type": "display_data"
    },
    {
     "data": {
      "text/html": [
       "Run data is saved locally in <code>/blue/thai/hoangx/projects/explain-representation/wandb/run-20250217_112707-srm8t7bj</code>"
      ],
      "text/plain": [
       "<IPython.core.display.HTML object>"
      ]
     },
     "metadata": {},
     "output_type": "display_data"
    },
    {
     "data": {
      "text/html": [
       "Syncing run <strong><a href='https://wandb.ai/nhathcmus/explain-representation/runs/srm8t7bj' target=\"_blank\">trim-dawn-90</a></strong> to <a href='https://wandb.ai/nhathcmus/explain-representation' target=\"_blank\">Weights & Biases</a> (<a href='https://wandb.me/developer-guide' target=\"_blank\">docs</a>)<br>"
      ],
      "text/plain": [
       "<IPython.core.display.HTML object>"
      ]
     },
     "metadata": {},
     "output_type": "display_data"
    },
    {
     "data": {
      "text/html": [
       " View project at <a href='https://wandb.ai/nhathcmus/explain-representation' target=\"_blank\">https://wandb.ai/nhathcmus/explain-representation</a>"
      ],
      "text/plain": [
       "<IPython.core.display.HTML object>"
      ]
     },
     "metadata": {},
     "output_type": "display_data"
    },
    {
     "data": {
      "text/html": [
       " View run at <a href='https://wandb.ai/nhathcmus/explain-representation/runs/srm8t7bj' target=\"_blank\">https://wandb.ai/nhathcmus/explain-representation/runs/srm8t7bj</a>"
      ],
      "text/plain": [
       "<IPython.core.display.HTML object>"
      ]
     },
     "metadata": {},
     "output_type": "display_data"
    }
   ],
   "source": [
    "import os\n",
    "import logging\n",
    "from pathlib import Path\n",
    "\n",
    "from dotenv import dotenv_values\n",
    "import wandb\n",
    "import numpy as np\n",
    "import torch\n",
    "import datasets\n",
    "from sklearn.model_selection import train_test_split\n",
    "from matplotlib import pyplot as plt\n",
    "\n",
    "from exrep.registry import load_data, save_data, load_model, load_tensor, get_artifact\n",
    "\n",
    "if 'notebooks' in os.getcwd():\n",
    "    os.chdir(\"../\")\n",
    "\n",
    "local_config = dotenv_values(\".env\")\n",
    "logging.basicConfig(level=logging.INFO)\n",
    "logger = logging.getLogger(__name__)\n",
    "\n",
    "random_state = 42\n",
    "\n",
    "embedding_artifact_name = \"imagenet-1k-first-20-take-2000_target-embeddings_mocov3-resnet50\"\n",
    "image_artifact_name = \"imagenet-1k-first-20-take-2000_images\"\n",
    "output_phase_name = \"surrogate\"\n",
    "\n",
    "run = wandb.init(\n",
    "    project=local_config[\"WANDB_PROJECT\"],\n",
    "    config={\n",
    "        \"job_type\": \"train_representation\",\n",
    "    },\n",
    "    # reinit=True,\n",
    "    # save_code=True,\n",
    ")\n",
    "\n",
    "device = \"cuda:7\""
   ]
  },
  {
   "cell_type": "code",
   "execution_count": 20,
   "metadata": {},
   "outputs": [],
   "source": [
    "train_configs = {\n",
    "    \"surrogate\": dict(\n",
    "        output_dim=16,\n",
    "    ),\n",
    "    \"loss\": dict(\n",
    "        gamma1=1.0,\n",
    "        gamma2=1.0,\n",
    "        temp_student=0.08,\n",
    "        temp_teacher=1,\n",
    "    ),\n",
    "    \"optimizer\": dict(\n",
    "        lr=1e-3,\n",
    "        weight_decay=1e-4,\n",
    "    )\n",
    "}\n",
    "run.config.update(train_configs)"
   ]
  },
  {
   "cell_type": "code",
   "execution_count": 23,
   "metadata": {},
   "outputs": [
    {
     "data": {
      "text/html": [],
      "text/plain": [
       "<IPython.core.display.HTML object>"
      ]
     },
     "metadata": {},
     "output_type": "display_data"
    },
    {
     "data": {
      "text/html": [
       "<br>    <style><br>        .wandb-row {<br>            display: flex;<br>            flex-direction: row;<br>            flex-wrap: wrap;<br>            justify-content: flex-start;<br>            width: 100%;<br>        }<br>        .wandb-col {<br>            display: flex;<br>            flex-direction: column;<br>            flex-basis: 100%;<br>            flex: 1;<br>            padding: 10px;<br>        }<br>    </style><br><div class=\"wandb-row\"><div class=\"wandb-col\"><h3>Run history:</h3><br/><table class=\"wandb\"><tr><td>classify_train_acc</td><td>▁▂▃▃▄▄▄▅▅▅▆▆▆▇███████▇▇▇▇▇▇▇█▇▇▇▇███████</td></tr><tr><td>classify_val_acc</td><td>▁▂▃▃▂▃▄▅▄▄▅▅▅▆▆▆▆▆▆▇█▇▇▇█████▇▆▆▇▇▆▆▆▇▇▇</td></tr><tr><td>epoch</td><td>▁▁▁▂▂▂▂▂▂▂▂▃▃▃▃▃▃▄▄▄▅▅▅▅▅▅▅▅▆▆▇▇▇▇▇▇████</td></tr><tr><td>grad_estimator</td><td>██▆▆▅▅▅▄▄▅▃▄▄▄▃▄▂▂▃▂▃▃▃▃▃▂▃▃▂▂▃▂▃▃▃▂▁▁▂▁</td></tr><tr><td>loss</td><td>█▇▆▆▆▅▅▄▅▄▄▄▄▄▃▃▃▃▂▃▃▃▂▂▂▂▂▁▂▁▂▁▁▁▂▂▁▁▂▂</td></tr><tr><td>loss_reg</td><td>▁▁▁▁▁▁▁▁▁▁▁▁▁▁▁▁▁▁▁▁▁▁▁▁▁▁▁▁▁▁▁▁▁▁▁▁▁▁▁▁</td></tr><tr><td>step</td><td>▁▁▁▁▂▂▂▂▂▂▂▃▃▃▃▄▄▄▅▅▅▅▅▅▅▅▅▅▆▆▆▆▇▇▇█████</td></tr><tr><td>val_grad_estimator</td><td>█▆▅▄▄▄▃▃▃▃▃▂▂▂▂▂▂▂▂▁▁▁▁▁▁▁▁▁▁▁▁▁▁▁▁▁▁▁▁▁</td></tr><tr><td>val_loss</td><td>█▆▅▄▄▄▃▃▃▃▃▂▂▂▂▂▂▂▂▁▁▁▁▁▁▁▁▁▁▁▁▁▁▁▁▁▁▁▁▁</td></tr></table><br/></div><div class=\"wandb-col\"><h3>Run summary:</h3><br/><table class=\"wandb\"><tr><td>classify_train_acc</td><td>0.73389</td></tr><tr><td>classify_val_acc</td><td>0.72</td></tr><tr><td>epoch</td><td>39</td></tr><tr><td>grad_estimator</td><td>0.44071</td></tr><tr><td>loss</td><td>0.44071</td></tr><tr><td>loss_reg</td><td>0</td></tr><tr><td>step</td><td>160</td></tr><tr><td>val_grad_estimator</td><td>0.57316</td></tr><tr><td>val_loss</td><td>0.57316</td></tr></table><br/></div></div>"
      ],
      "text/plain": [
       "<IPython.core.display.HTML object>"
      ]
     },
     "metadata": {},
     "output_type": "display_data"
    },
    {
     "data": {
      "text/html": [
       " View run <strong style=\"color:#cdcd00\">trim-dawn-90</strong> at: <a href='https://wandb.ai/nhathcmus/explain-representation/runs/srm8t7bj' target=\"_blank\">https://wandb.ai/nhathcmus/explain-representation/runs/srm8t7bj</a><br> View project at: <a href='https://wandb.ai/nhathcmus/explain-representation' target=\"_blank\">https://wandb.ai/nhathcmus/explain-representation</a><br>Synced 5 W&B file(s), 0 media file(s), 0 artifact file(s) and 0 other file(s)"
      ],
      "text/plain": [
       "<IPython.core.display.HTML object>"
      ]
     },
     "metadata": {},
     "output_type": "display_data"
    },
    {
     "data": {
      "text/html": [
       "Find logs at: <code>./wandb/run-20250217_112707-srm8t7bj/logs</code>"
      ],
      "text/plain": [
       "<IPython.core.display.HTML object>"
      ]
     },
     "metadata": {},
     "output_type": "display_data"
    }
   ],
   "source": [
    "wandb.finish(1)"
   ]
  },
  {
   "cell_type": "code",
   "execution_count": 21,
   "metadata": {},
   "outputs": [
    {
     "name": "stderr",
     "output_type": "stream",
     "text": [
      "/blue/thai/hoangx/projects/explain-representation/exrep/registry.py:192: FutureWarning: You are using `torch.load` with `weights_only=False` (the current default value), which uses the default pickle module implicitly. It is possible to construct malicious pickle data which will execute arbitrary code during unpickling (See https://github.com/pytorch/pytorch/blob/main/SECURITY.md#untrusted-models for more details). In a future release, the default value for `weights_only` will be flipped to `True`. This limits the functions that could be executed during unpickling. Arbitrary objects will no longer be allowed to be loaded via this mode unless they are explicitly allowlisted by the user via `torch.serialization.add_safe_globals`. We recommend you start setting `weights_only=True` for any use case where you don't have full control of the loaded file. Please open an issue on GitHub for any issues related to this experimental feature.\n",
      "  tensor = torch.load(file_path, map_location=map_location)\n",
      "\u001b[34m\u001b[1mwandb\u001b[0m: Downloading large artifact imagenet-1k-first-20-take-2000_images:latest, 230.91MB. 3 files... \n",
      "\u001b[34m\u001b[1mwandb\u001b[0m:   3 of 3 files downloaded.  \n",
      "Done. 0:0:0.6\n",
      "INFO:__main__:Encoding shape: torch.Size([2000, 78])\n",
      "INFO:__main__:Embeddings shape: torch.Size([2000, 2048])\n",
      "INFO:__main__:Image dataset: Dataset({\n",
      "    features: ['image', 'label'],\n",
      "    num_rows: 2000\n",
      "})\n",
      "INFO:__main__:XY dataset: DatasetDict({\n",
      "    train: Dataset({\n",
      "        features: ['inputs', 'targets', 'label'],\n",
      "        num_rows: 1800\n",
      "    })\n",
      "    test: Dataset({\n",
      "        features: ['inputs', 'targets', 'label'],\n",
      "        num_rows: 200\n",
      "    })\n",
      "})\n"
     ]
    }
   ],
   "source": [
    "encoding = load_tensor(\n",
    "    base_name=\"imagenet\",\n",
    "    phase=\"local-encoding\",\n",
    "    identifier=\"agglomerative\",\n",
    "    file_name=\"local-encoding_80.pt\",\n",
    "    map_location=device,\n",
    "    wandb_run=run,\n",
    ")\n",
    "embeddings = load_tensor(\n",
    "    \"embeddings.pt\",\n",
    "    artifact_name=embedding_artifact_name,\n",
    "    map_location=device,\n",
    "    wandb_run=run,\n",
    ")\n",
    "images_path = get_artifact(\n",
    "    image_artifact_name,\n",
    "    wandb_run=run,\n",
    ").download()\n",
    "images_dataset = datasets.load_from_disk(images_path)\n",
    "labels_dataset = images_dataset.remove_columns([\"image\"])\n",
    "\n",
    "if isinstance(embeddings, list):\n",
    "    embeddings = torch.cat(embeddings, dim=0)\n",
    "embeddings_dataset = datasets.Dataset.from_dict({\"targets\": embeddings})\n",
    "encoding_dataset = datasets.Dataset.from_dict({\"inputs\": encoding})\n",
    "\n",
    "xy_dataset = datasets.concatenate_datasets(\n",
    "    [encoding_dataset, embeddings_dataset, labels_dataset],\n",
    "    axis=1\n",
    ").with_format(\"torch\").train_test_split(0.1, shuffle=False, seed=random_state)\n",
    "\n",
    "logger.info(\"Encoding shape: %s\", encoding.shape)\n",
    "logger.info(\"Embeddings shape: %s\", embeddings.shape)\n",
    "logger.info(\"Image dataset: %s\", images_dataset)\n",
    "logger.info(\"XY dataset: %s\", xy_dataset)"
   ]
  },
  {
   "cell_type": "code",
   "execution_count": 22,
   "metadata": {},
   "outputs": [
    {
     "name": "stdout",
     "output_type": "stream",
     "text": [
      "The autoreload extension is already loaded. To reload it, use:\n",
      "  %reload_ext autoreload\n"
     ]
    },
    {
     "name": "stderr",
     "output_type": "stream",
     "text": [
      "INFO:exrep.train:Epoch  2, Step   10, Loss: 0.85572\n",
      "INFO:exrep.train:Epoch  4, Step   20, Loss: 0.72043\n",
      "INFO:exrep.train:Epoch  7, Step   30, Loss: 0.71566\n",
      "INFO:exrep.train:Epoch  9, Step   40, Loss: 0.63118\n",
      "INFO:exrep.train:Epoch 12, Step   50, Loss: 0.64612\n",
      "INFO:exrep.train:Epoch 14, Step   60, Loss: 0.56890\n",
      "INFO:exrep.train:Epoch 17, Step   70, Loss: 0.60004\n",
      "INFO:exrep.train:Epoch 19, Step   80, Loss: 0.52592\n",
      "INFO:exrep.train:Epoch 22, Step   90, Loss: 0.57056\n",
      "INFO:exrep.train:Epoch 24, Step  100, Loss: 0.49576\n",
      "INFO:exrep.train:Epoch 27, Step  110, Loss: 0.54941\n",
      "INFO:exrep.train:Epoch 29, Step  120, Loss: 0.47272\n",
      "INFO:exrep.train:Epoch 32, Step  130, Loss: 0.53241\n",
      "INFO:exrep.train:Epoch 34, Step  140, Loss: 0.45501\n",
      "INFO:exrep.train:Epoch 37, Step  150, Loss: 0.51822\n",
      "INFO:exrep.train:Epoch 39, Step  160, Loss: 0.44071\n",
      "INFO:exrep.train:|===========================================================================|\n",
      "|                  PyTorch CUDA memory summary, device ID 7                 |\n",
      "|---------------------------------------------------------------------------|\n",
      "|            CUDA OOMs: 0            |        cudaMalloc retries: 0         |\n",
      "|===========================================================================|\n",
      "|        Metric         | Cur Usage  | Peak Usage | Tot Alloc  | Tot Freed  |\n",
      "|---------------------------------------------------------------------------|\n",
      "| Allocated memory      |  36464 KiB |  94526 KiB |  65904 MiB |  65869 MiB |\n",
      "|       from large pool |  35459 KiB |  91561 KiB |  61449 MiB |  61414 MiB |\n",
      "|       from small pool |   1005 KiB |   5089 KiB |   4455 MiB |   4454 MiB |\n",
      "|---------------------------------------------------------------------------|\n",
      "| Active memory         |  36464 KiB |  94526 KiB |  65904 MiB |  65869 MiB |\n",
      "|       from large pool |  35459 KiB |  91561 KiB |  61449 MiB |  61414 MiB |\n",
      "|       from small pool |   1005 KiB |   5089 KiB |   4455 MiB |   4454 MiB |\n",
      "|---------------------------------------------------------------------------|\n",
      "| Requested memory      |  36456 KiB |  93975 KiB |  64721 MiB |  64686 MiB |\n",
      "|       from large pool |  35458 KiB |  90146 KiB |  60277 MiB |  60242 MiB |\n",
      "|       from small pool |    998 KiB |   5079 KiB |   4444 MiB |   4443 MiB |\n",
      "|---------------------------------------------------------------------------|\n",
      "| GPU reserved memory   | 108544 KiB | 108544 KiB | 108544 KiB |      0 B   |\n",
      "|       from large pool | 102400 KiB | 102400 KiB | 102400 KiB |      0 B   |\n",
      "|       from small pool |   6144 KiB |   6144 KiB |   6144 KiB |      0 B   |\n",
      "|---------------------------------------------------------------------------|\n",
      "| Non-releasable memory |  29071 KiB |  54120 KiB |  85495 MiB |  85467 MiB |\n",
      "|       from large pool |  25981 KiB |  51869 KiB |  80617 MiB |  80592 MiB |\n",
      "|       from small pool |   3090 KiB |   4004 KiB |   4878 MiB |   4875 MiB |\n",
      "|---------------------------------------------------------------------------|\n",
      "| Allocations           |      35    |      84    |   77180    |   77145    |\n",
      "|       from large pool |       5    |      19    |   18892    |   18887    |\n",
      "|       from small pool |      30    |      67    |   58288    |   58258    |\n",
      "|---------------------------------------------------------------------------|\n",
      "| Active allocs         |      35    |      84    |   77180    |   77145    |\n",
      "|       from large pool |       5    |      19    |   18892    |   18887    |\n",
      "|       from small pool |      30    |      67    |   58288    |   58258    |\n",
      "|---------------------------------------------------------------------------|\n",
      "| GPU reserved segments |       8    |       8    |       8    |       0    |\n",
      "|       from large pool |       5    |       5    |       5    |       0    |\n",
      "|       from small pool |       3    |       3    |       3    |       0    |\n",
      "|---------------------------------------------------------------------------|\n",
      "| Non-releasable allocs |      19    |      24    |   37976    |   37957    |\n",
      "|       from large pool |       5    |       7    |   11572    |   11567    |\n",
      "|       from small pool |      14    |      20    |   26404    |   26390    |\n",
      "|---------------------------------------------------------------------------|\n",
      "| Oversize allocations  |       0    |       0    |       0    |       0    |\n",
      "|---------------------------------------------------------------------------|\n",
      "| Oversize GPU segments |       0    |       0    |       0    |       0    |\n",
      "|===========================================================================|\n",
      "\n"
     ]
    }
   ],
   "source": [
    "%load_ext autoreload\n",
    "%autoreload 2\n",
    "\n",
    "from exrep.train import train_local_representation\n",
    "\n",
    "model, logs = train_local_representation(\n",
    "    alpha=0,\n",
    "    model_config=run.config.surrogate,\n",
    "    loss_config=run.config.loss,\n",
    "    optimizer_config=run.config.optimizer,\n",
    "    train_dataset=xy_dataset[\"train\"],\n",
    "    val_dataset=xy_dataset[\"test\"],\n",
    "    keys=embeddings,\n",
    "    groups=None,\n",
    "    wandb_run=run,\n",
    "    num_epochs=40,\n",
    "    batch_size=512,\n",
    "    log_every_n_steps=10,\n",
    "    device=device,   \n",
    ")"
   ]
  },
  {
   "cell_type": "code",
   "execution_count": 11,
   "metadata": {},
   "outputs": [
    {
     "data": {
      "text/plain": [
       "[{'epoch': 0,\n",
       "  'step': 4,\n",
       "  'val_grad_estimator': 6.773936748504639,\n",
       "  'val_loss': 6.773936748504639,\n",
       "  'classify_train_acc': 0.6655555555555556,\n",
       "  'classify_val_acc': 0.625},\n",
       " {'epoch': 1,\n",
       "  'step': 8,\n",
       "  'val_grad_estimator': 6.505286693572998,\n",
       "  'val_loss': 6.505286693572998,\n",
       "  'classify_train_acc': 0.6744444444444444,\n",
       "  'classify_val_acc': 0.635},\n",
       " {'epoch': 2,\n",
       "  'step': 12,\n",
       "  'val_grad_estimator': 6.305582046508789,\n",
       "  'val_loss': 6.305582046508789,\n",
       "  'classify_train_acc': 0.6838888888888889,\n",
       "  'classify_val_acc': 0.65},\n",
       " {'epoch': 3,\n",
       "  'step': 16,\n",
       "  'val_grad_estimator': 6.1213250160217285,\n",
       "  'val_loss': 6.1213250160217285,\n",
       "  'classify_train_acc': 0.6933333333333334,\n",
       "  'classify_val_acc': 0.645},\n",
       " {'epoch': 4,\n",
       "  'step': 20,\n",
       "  'val_grad_estimator': 5.950815677642822,\n",
       "  'val_loss': 5.950815677642822,\n",
       "  'classify_train_acc': 0.6988888888888889,\n",
       "  'classify_val_acc': 0.665},\n",
       " {'epoch': 5,\n",
       "  'step': 24,\n",
       "  'val_grad_estimator': 5.79874324798584,\n",
       "  'val_loss': 5.79874324798584,\n",
       "  'classify_train_acc': 0.7111111111111111,\n",
       "  'classify_val_acc': 0.665},\n",
       " {'epoch': 6,\n",
       "  'step': 28,\n",
       "  'val_grad_estimator': 5.669885635375977,\n",
       "  'val_loss': 5.669885635375977,\n",
       "  'classify_train_acc': 0.7138888888888889,\n",
       "  'classify_val_acc': 0.67},\n",
       " {'epoch': 7,\n",
       "  'step': 32,\n",
       "  'val_grad_estimator': 5.566291332244873,\n",
       "  'val_loss': 5.566291332244873,\n",
       "  'classify_train_acc': 0.72,\n",
       "  'classify_val_acc': 0.675},\n",
       " {'epoch': 8,\n",
       "  'step': 36,\n",
       "  'val_grad_estimator': 5.489770889282227,\n",
       "  'val_loss': 5.489770889282227,\n",
       "  'classify_train_acc': 0.725,\n",
       "  'classify_val_acc': 0.685},\n",
       " {'epoch': 9,\n",
       "  'step': 40,\n",
       "  'val_grad_estimator': 5.451326847076416,\n",
       "  'val_loss': 5.451326847076416,\n",
       "  'classify_train_acc': 0.7244444444444444,\n",
       "  'classify_val_acc': 0.695},\n",
       " {'epoch': 10,\n",
       "  'step': 44,\n",
       "  'val_grad_estimator': 5.456830978393555,\n",
       "  'val_loss': 5.456830978393555,\n",
       "  'classify_train_acc': 0.7305555555555555,\n",
       "  'classify_val_acc': 0.71},\n",
       " {'epoch': 11,\n",
       "  'step': 48,\n",
       "  'val_grad_estimator': 5.4880170822143555,\n",
       "  'val_loss': 5.4880170822143555,\n",
       "  'classify_train_acc': 0.7372222222222222,\n",
       "  'classify_val_acc': 0.705},\n",
       " {'epoch': 12,\n",
       "  'step': 52,\n",
       "  'val_grad_estimator': 5.52264928817749,\n",
       "  'val_loss': 5.52264928817749,\n",
       "  'classify_train_acc': 0.74,\n",
       "  'classify_val_acc': 0.71},\n",
       " {'epoch': 13,\n",
       "  'step': 56,\n",
       "  'val_grad_estimator': 5.542356014251709,\n",
       "  'val_loss': 5.542356014251709,\n",
       "  'classify_train_acc': 0.745,\n",
       "  'classify_val_acc': 0.71},\n",
       " {'epoch': 14,\n",
       "  'step': 60,\n",
       "  'val_grad_estimator': 5.56640625,\n",
       "  'val_loss': 5.56640625,\n",
       "  'classify_train_acc': 0.7488888888888889,\n",
       "  'classify_val_acc': 0.71},\n",
       " {'epoch': 15,\n",
       "  'step': 64,\n",
       "  'val_grad_estimator': 5.627839088439941,\n",
       "  'val_loss': 5.627839088439941,\n",
       "  'classify_train_acc': 0.7505555555555555,\n",
       "  'classify_val_acc': 0.715},\n",
       " {'epoch': 16,\n",
       "  'step': 68,\n",
       "  'val_grad_estimator': 5.722778797149658,\n",
       "  'val_loss': 5.722778797149658,\n",
       "  'classify_train_acc': 0.7516666666666667,\n",
       "  'classify_val_acc': 0.71},\n",
       " {'epoch': 17,\n",
       "  'step': 72,\n",
       "  'val_grad_estimator': 5.811926364898682,\n",
       "  'val_loss': 5.811926364898682,\n",
       "  'classify_train_acc': 0.7533333333333333,\n",
       "  'classify_val_acc': 0.715},\n",
       " {'epoch': 18,\n",
       "  'step': 76,\n",
       "  'val_grad_estimator': 5.901246070861816,\n",
       "  'val_loss': 5.901246070861816,\n",
       "  'classify_train_acc': 0.7561111111111111,\n",
       "  'classify_val_acc': 0.705},\n",
       " {'epoch': 19,\n",
       "  'step': 80,\n",
       "  'val_grad_estimator': 6.005704879760742,\n",
       "  'val_loss': 6.005704879760742,\n",
       "  'classify_train_acc': 0.7577777777777778,\n",
       "  'classify_val_acc': 0.71},\n",
       " {'epoch': 20,\n",
       "  'step': 84,\n",
       "  'val_grad_estimator': 6.091561794281006,\n",
       "  'val_loss': 6.091561794281006,\n",
       "  'classify_train_acc': 0.7544444444444445,\n",
       "  'classify_val_acc': 0.715},\n",
       " {'epoch': 21,\n",
       "  'step': 88,\n",
       "  'val_grad_estimator': 6.176080226898193,\n",
       "  'val_loss': 6.176080226898193,\n",
       "  'classify_train_acc': 0.7594444444444445,\n",
       "  'classify_val_acc': 0.72},\n",
       " {'epoch': 22,\n",
       "  'step': 92,\n",
       "  'val_grad_estimator': 6.264573097229004,\n",
       "  'val_loss': 6.264573097229004,\n",
       "  'classify_train_acc': 0.7605555555555555,\n",
       "  'classify_val_acc': 0.725},\n",
       " {'epoch': 23,\n",
       "  'step': 96,\n",
       "  'val_grad_estimator': 6.347227573394775,\n",
       "  'val_loss': 6.347227573394775,\n",
       "  'classify_train_acc': 0.7605555555555555,\n",
       "  'classify_val_acc': 0.73},\n",
       " {'epoch': 24,\n",
       "  'step': 100,\n",
       "  'val_grad_estimator': 6.4254655838012695,\n",
       "  'val_loss': 6.4254655838012695,\n",
       "  'classify_train_acc': 0.7661111111111111,\n",
       "  'classify_val_acc': 0.73},\n",
       " {'epoch': 25,\n",
       "  'step': 104,\n",
       "  'val_grad_estimator': 6.500904560089111,\n",
       "  'val_loss': 6.500904560089111,\n",
       "  'classify_train_acc': 0.7633333333333333,\n",
       "  'classify_val_acc': 0.725},\n",
       " {'epoch': 26,\n",
       "  'step': 108,\n",
       "  'val_grad_estimator': 6.570087909698486,\n",
       "  'val_loss': 6.570087909698486,\n",
       "  'classify_train_acc': 0.7633333333333333,\n",
       "  'classify_val_acc': 0.725},\n",
       " {'epoch': 27,\n",
       "  'step': 112,\n",
       "  'val_grad_estimator': 6.63629150390625,\n",
       "  'val_loss': 6.63629150390625,\n",
       "  'classify_train_acc': 0.7655555555555555,\n",
       "  'classify_val_acc': 0.725},\n",
       " {'epoch': 28,\n",
       "  'step': 116,\n",
       "  'val_grad_estimator': 6.699045181274414,\n",
       "  'val_loss': 6.699045181274414,\n",
       "  'classify_train_acc': 0.765,\n",
       "  'classify_val_acc': 0.73},\n",
       " {'epoch': 29,\n",
       "  'step': 120,\n",
       "  'val_grad_estimator': 6.760732650756836,\n",
       "  'val_loss': 6.760732650756836,\n",
       "  'classify_train_acc': 0.7661111111111111,\n",
       "  'classify_val_acc': 0.73},\n",
       " {'epoch': 30,\n",
       "  'step': 124,\n",
       "  'val_grad_estimator': 6.817414283752441,\n",
       "  'val_loss': 6.817414283752441,\n",
       "  'classify_train_acc': 0.7661111111111111,\n",
       "  'classify_val_acc': 0.725},\n",
       " {'epoch': 31,\n",
       "  'step': 128,\n",
       "  'val_grad_estimator': 6.869438171386719,\n",
       "  'val_loss': 6.869438171386719,\n",
       "  'classify_train_acc': 0.7661111111111111,\n",
       "  'classify_val_acc': 0.725},\n",
       " {'epoch': 32,\n",
       "  'step': 132,\n",
       "  'val_grad_estimator': 6.916410446166992,\n",
       "  'val_loss': 6.916410446166992,\n",
       "  'classify_train_acc': 0.7644444444444445,\n",
       "  'classify_val_acc': 0.725},\n",
       " {'epoch': 33,\n",
       "  'step': 136,\n",
       "  'val_grad_estimator': 6.961024761199951,\n",
       "  'val_loss': 6.961024761199951,\n",
       "  'classify_train_acc': 0.7622222222222222,\n",
       "  'classify_val_acc': 0.725},\n",
       " {'epoch': 34,\n",
       "  'step': 140,\n",
       "  'val_grad_estimator': 7.0029754638671875,\n",
       "  'val_loss': 7.0029754638671875,\n",
       "  'classify_train_acc': 0.76,\n",
       "  'classify_val_acc': 0.72},\n",
       " {'epoch': 35,\n",
       "  'step': 144,\n",
       "  'val_grad_estimator': 7.040895462036133,\n",
       "  'val_loss': 7.040895462036133,\n",
       "  'classify_train_acc': 0.7583333333333333,\n",
       "  'classify_val_acc': 0.72},\n",
       " {'epoch': 36,\n",
       "  'step': 148,\n",
       "  'val_grad_estimator': 7.076360702514648,\n",
       "  'val_loss': 7.076360702514648,\n",
       "  'classify_train_acc': 0.7583333333333333,\n",
       "  'classify_val_acc': 0.725},\n",
       " {'epoch': 37,\n",
       "  'step': 152,\n",
       "  'val_grad_estimator': 7.109594345092773,\n",
       "  'val_loss': 7.109594345092773,\n",
       "  'classify_train_acc': 0.7583333333333333,\n",
       "  'classify_val_acc': 0.73},\n",
       " {'epoch': 38,\n",
       "  'step': 156,\n",
       "  'val_grad_estimator': 7.141109943389893,\n",
       "  'val_loss': 7.141109943389893,\n",
       "  'classify_train_acc': 0.76,\n",
       "  'classify_val_acc': 0.725},\n",
       " {'epoch': 39,\n",
       "  'step': 160,\n",
       "  'val_grad_estimator': 7.171522617340088,\n",
       "  'val_loss': 7.171522617340088,\n",
       "  'classify_train_acc': 0.7577777777777778,\n",
       "  'classify_val_acc': 0.72}]"
      ]
     },
     "execution_count": 11,
     "metadata": {},
     "output_type": "execute_result"
    }
   ],
   "source": [
    "logs['val']"
   ]
  },
  {
   "cell_type": "code",
   "execution_count": 12,
   "metadata": {},
   "outputs": [
    {
     "data": {
      "text/plain": [
       "<matplotlib.legend.Legend at 0x14ee28d2c0e0>"
      ]
     },
     "execution_count": 12,
     "metadata": {},
     "output_type": "execute_result"
    },
    {
     "data": {
      "image/png": "[encoded data removed]",
      "text/plain": [
       "<Figure size 640x480 with 2 Axes>"
      ]
     },
     "metadata": {},
     "output_type": "display_data"
    }
   ],
   "source": [
    "fig, ax = plt.subplots()\n",
    "\n",
    "twin1 = ax.twinx()\n",
    "\n",
    "p1, = ax.plot([log[\"step\"] for log in logs[\"train\"]], [log[\"loss\"] for log in logs[\"train\"]], 'C0', label=\"train loss\")\n",
    "p2, = ax.plot([log[\"step\"] for log in logs[\"val\"]], [log[\"val_loss\"] for log in logs[\"val\"]], 'C1', label=\"val loss\")\n",
    "p3, = twin1.plot([log[\"step\"] for log in logs[\"val\"]], [log[\"classify_val_acc\"] for log in logs[\"val\"]], 'C2', label=\"downstream val acc\")\n",
    "# p4, = ax.plot([log[\"step\"] for log in logs[\"train\"]], [log[\"grad_estimator\"] for log in logs[\"train\"]], 'C3', label=\"train total loss\")\n",
    "\n",
    "ax.set_ylabel(\"loss\")\n",
    "ax.set_xlabel(\"step\")\n",
    "# ax.set_ylim([0, 1])\n",
    "twin1.set_ylabel(\"accuracy\")\n",
    "ax.legend(handles=[p1, p2, p3])"
   ]
  },
  {
   "cell_type": "code",
   "execution_count": 14,
   "metadata": {},
   "outputs": [],
   "source": [
    "samples_batch = xy_dataset[\"train\"][:100]\n",
    "keys_batch = embeddings[:100]"
   ]
  },
  {
   "cell_type": "code",
   "execution_count": 16,
   "metadata": {},
   "outputs": [
    {
     "data": {
      "text/plain": [
       "tensor([[0.7930, 0.0000, 0.0000,  ..., 0.0000, 0.0000, 0.0000],\n",
       "        [0.0080, 0.0300, 0.0090,  ..., 0.0120, 0.0100, 0.0090],\n",
       "        [0.0000, 0.0000, 0.4970,  ..., 0.0000, 0.0000, 0.0000],\n",
       "        ...,\n",
       "        [0.0040, 0.0040, 0.0050,  ..., 0.3580, 0.0060, 0.0050],\n",
       "        [0.0000, 0.0000, 0.0010,  ..., 0.0000, 0.6040, 0.0010],\n",
       "        [0.0060, 0.0040, 0.0060,  ..., 0.0080, 0.0120, 0.1490]])"
      ]
     },
     "execution_count": 16,
     "metadata": {},
     "output_type": "execute_result"
    }
   ],
   "source": [
    "torch.round(torch.softmax((samples_batch[\"targets\"] @ samples_batch[\"targets\"].T) / train_configs['loss']['temp_teacher'], dim=-1), decimals=3)"
   ]
  },
  {
   "cell_type": "code",
   "execution_count": 17,
   "metadata": {},
   "outputs": [
    {
     "data": {
      "text/plain": [
       "tensor([[0.0442, 0.0060, 0.0062,  ..., 0.0065, 0.0082, 0.0062],\n",
       "        [0.0090, 0.0079, 0.0076,  ..., 0.0113, 0.0104, 0.0094],\n",
       "        [0.0091, 0.0044, 0.0098,  ..., 0.0054, 0.0102, 0.0045],\n",
       "        ...,\n",
       "        [0.0086, 0.0070, 0.0062,  ..., 0.0156, 0.0168, 0.0087],\n",
       "        [0.0081, 0.0071, 0.0078,  ..., 0.0088, 0.0456, 0.0076],\n",
       "        [0.0079, 0.0071, 0.0096,  ..., 0.0105, 0.0121, 0.0102]],\n",
       "       device='cuda:0', grad_fn=<SoftmaxBackward0>)"
      ]
     },
     "execution_count": 17,
     "metadata": {},
     "output_type": "execute_result"
    }
   ],
   "source": [
    "q, k = model.encode(query=samples_batch[\"inputs\"].to(device), key=samples_batch[\"targets\"].to(device), normalize=True)\n",
    "torch.softmax(q @ k.T / model.temperature, dim=1)"
   ]
  },
  {
   "cell_type": "code",
   "execution_count": 9,
   "metadata": {},
   "outputs": [
    {
     "name": "stderr",
     "output_type": "stream",
     "text": [
      "\u001b[34m\u001b[1mwandb\u001b[0m: Downloading large artifact imagenet-1k-first-20-take-2000_images:latest, 230.91MB. 3 files... \n",
      "\u001b[34m\u001b[1mwandb\u001b[0m:   3 of 3 files downloaded.  \n",
      "Done. 0:0:0.8\n"
     ]
    }
   ],
   "source": [
    "image_dataset = load_data(\n",
    "    base_name=\"imagenet-1k-first-20-take-2000\",\n",
    "    phase=\"images\",\n",
    "    wandb_run=run,\n",
    ")"
   ]
  },
  {
   "cell_type": "code",
   "execution_count": 80,
   "metadata": {},
   "outputs": [
    {
     "name": "stdout",
     "output_type": "stream",
     "text": [
      "1800 200 1800 200 1800 200\n"
     ]
    }
   ],
   "source": [
    "from sklearn.svm import SVC\n",
    "from sklearn.model_selection import train_test_split\n",
    "\n",
    "downstream_labels = image_dataset[\"label\"]\n",
    "pred_embeds = model.encode(query=encoding.float().to(device), normalize=True).detach().cpu().numpy()\n",
    "target_embeds = embeddings.cpu().numpy()\n",
    "\n",
    "Y_train, Y_test, P_train, P_test, K_train, K_test = train_test_split(downstream_labels, pred_embeds, target_embeds, random_state=random_state, test_size=0.1, stratify=downstream_labels)\n",
    "print(len(Y_train), len(Y_test), len(P_train), len(P_test), len(K_train), len(K_test))\n",
    "\n",
    "classifier = SVC(kernel=\"linear\").fit(K_train, Y_train)\n",
    "orig_preds = classifier.predict(K_test)\n",
    "# surrogate_preds = classifier.predict(P_test)"
   ]
  },
  {
   "cell_type": "code",
   "execution_count": 57,
   "metadata": {},
   "outputs": [
    {
     "data": {
      "text/plain": [
       "torch.Size([16, 20])"
      ]
     },
     "execution_count": 57,
     "metadata": {},
     "output_type": "execute_result"
    }
   ],
   "source": [
    "model.query_encoder.weight.shape"
   ]
  },
  {
   "cell_type": "code",
   "execution_count": 81,
   "metadata": {},
   "outputs": [
    {
     "name": "stdout",
     "output_type": "stream",
     "text": [
      "Surrogate accuracy: 0.695\n",
      "Original accuracy: 0.735 Surrogate accuracy: 0.695\n"
     ]
    }
   ],
   "source": [
    "surrogate_classifier = SVC(kernel=\"linear\").fit(P_train, Y_train)\n",
    "surrogate_preds = surrogate_classifier.predict(P_test)\n",
    "\n",
    "surrogate_acc = (surrogate_preds == Y_test).mean()\n",
    "\n",
    "print(f\"Surrogate accuracy: {surrogate_acc}\")\n",
    "print(\"Original accuracy:\", (orig_preds == Y_test).mean(), \"Surrogate accuracy:\", (surrogate_preds == Y_test).mean())"
   ]
  },
  {
   "cell_type": "code",
   "execution_count": 82,
   "metadata": {},
   "outputs": [
    {
     "name": "stderr",
     "output_type": "stream",
     "text": [
      "/home/hoangx/persist/envs/exrep/lib/python3.12/site-packages/sklearn/utils/validation.py:1408: DataConversionWarning: A column-vector y was passed when a 1d array was expected. Please change the shape of y to (n_samples, ), for example using ravel().\n",
      "  y = column_or_1d(y, warn=True)\n"
     ]
    },
    {
     "name": "stdout",
     "output_type": "stream",
     "text": [
      "Surrogate matching accuracy: 0.615\n"
     ]
    }
   ],
   "source": [
    "matcher_classifier = SVC(kernel=\"linear\").fit(P_train, classifier.predict(K_train).reshape(-1, 1))\n",
    "surrogate_preds = surrogate_classifier.predict(P_test)\n",
    "\n",
    "surrogate_acc = (surrogate_preds == classifier.predict(K_test)).mean()\n",
    "\n",
    "print(f\"Surrogate matching accuracy: {surrogate_acc}\")"
   ]
  },
  {
   "cell_type": "code",
   "execution_count": 239,
   "metadata": {},
   "outputs": [
    {
     "data": {
      "text/html": [],
      "text/plain": [
       "<IPython.core.display.HTML object>"
      ]
     },
     "metadata": {},
     "output_type": "display_data"
    },
    {
     "data": {
      "text/html": [
       " View run <strong style=\"color:#cdcd00\">glowing-lake-71</strong> at: <a href='https://wandb.ai/nhathcmus/explain-representation/runs/u4y40h7l' target=\"_blank\">https://wandb.ai/nhathcmus/explain-representation/runs/u4y40h7l</a><br> View project at: <a href='https://wandb.ai/nhathcmus/explain-representation' target=\"_blank\">https://wandb.ai/nhathcmus/explain-representation</a><br>Synced 5 W&B file(s), 0 media file(s), 0 artifact file(s) and 0 other file(s)"
      ],
      "text/plain": [
       "<IPython.core.display.HTML object>"
      ]
     },
     "metadata": {},
     "output_type": "display_data"
    },
    {
     "data": {
      "text/html": [
       "Find logs at: <code>./wandb/run-20250212_013615-u4y40h7l/logs</code>"
      ],
      "text/plain": [
       "<IPython.core.display.HTML object>"
      ]
     },
     "metadata": {},
     "output_type": "display_data"
    }
   ],
   "source": [
    "wandb.finish()"
   ]
  },
  {
   "cell_type": "code",
   "execution_count": 98,
   "metadata": {},
   "outputs": [
    {
     "data": {
      "image/png": "[encoded data removed]",
      "text/plain": [
       "<Figure size 640x480 with 1 Axes>"
      ]
     },
     "metadata": {},
     "output_type": "display_data"
    }
   ],
   "source": [
    "import matplotlib.pyplot as plt\n",
    "\n",
    "x = [20, 30, 40, 80]\n",
    "y1 = [0.51, 0.59, 0.69, 0.71]\n",
    "y2 = [0.615, 0.61, 0.589, 0.571]\n",
    "y3 = [0.465, 0.545, 0.6, 0.615]\n",
    "\n",
    "fig, ax = plt.subplots()\n",
    "ax.plot(x, y1, label=\"Surrogate accuracy\")\n",
    "ax.plot(x, y2, label=\"KD validation loss\")\n",
    "ax.plot(x, y3, label=\"Faithfulness (accuracy)\")\n",
    "ax.set_xlabel(\"Number of concepts\")\n",
    "plt.axhline(y=0.735, linestyle=\"--\", color=\"black\", label=\"Target model accuracy\")\n",
    "ax.set_ybound(0.45, 0.8)\n",
    "# set x log scale\n",
    "ax.set_xscale('log')\n",
    "ax.legend()\n",
    "\n",
    "plt.show()"
   ]
  }
 ],
 "metadata": {
  "kernelspec": {
   "display_name": "exrep",
   "language": "python",
   "name": "python3"
  },
  "language_info": {
   "codemirror_mode": {
    "name": "ipython",
    "version": 3
   },
   "file_extension": ".py",
   "mimetype": "text/x-python",
   "name": "python",
   "nbconvert_exporter": "python",
   "pygments_lexer": "ipython3",
   "version": "3.12.8"
  }
 },
 "nbformat": 4,
 "nbformat_minor": 2
}
