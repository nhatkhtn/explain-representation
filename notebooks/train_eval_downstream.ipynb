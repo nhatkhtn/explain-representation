{
 "cells": [
  {
   "cell_type": "code",
   "execution_count": 1,
   "metadata": {},
   "outputs": [
    {
     "name": "stderr",
     "output_type": "stream",
     "text": [
      "\u001b[34m\u001b[1mwandb\u001b[0m: Currently logged in as: \u001b[33mnhathcmus\u001b[0m to \u001b[32mhttps://api.wandb.ai\u001b[0m. Use \u001b[1m`wandb login --relogin`\u001b[0m to force relogin\n",
      "\u001b[34m\u001b[1mwandb\u001b[0m: Using wandb-core as the SDK backend.  Please refer to https://wandb.me/wandb-core for more information.\n"
     ]
    },
    {
     "data": {
      "text/html": [
       "Tracking run with wandb version 0.19.6"
      ],
      "text/plain": [
       "<IPython.core.display.HTML object>"
      ]
     },
     "metadata": {},
     "output_type": "display_data"
    },
    {
     "data": {
      "text/html": [
       "Run data is saved locally in <code>/blue/thai/hoangx/projects/explain-representation/wandb/run-20250303_014953-74uszk3u</code>"
      ],
      "text/plain": [
       "<IPython.core.display.HTML object>"
      ]
     },
     "metadata": {},
     "output_type": "display_data"
    },
    {
     "data": {
      "text/html": [
       "Syncing run <strong><a href='https://wandb.ai/nhathcmus/explain-representation/runs/74uszk3u' target=\"_blank\">devout-armadillo-219</a></strong> to <a href='https://wandb.ai/nhathcmus/explain-representation' target=\"_blank\">Weights & Biases</a> (<a href='https://wandb.me/developer-guide' target=\"_blank\">docs</a>)<br>"
      ],
      "text/plain": [
       "<IPython.core.display.HTML object>"
      ]
     },
     "metadata": {},
     "output_type": "display_data"
    },
    {
     "data": {
      "text/html": [
       " View project at <a href='https://wandb.ai/nhathcmus/explain-representation' target=\"_blank\">https://wandb.ai/nhathcmus/explain-representation</a>"
      ],
      "text/plain": [
       "<IPython.core.display.HTML object>"
      ]
     },
     "metadata": {},
     "output_type": "display_data"
    },
    {
     "data": {
      "text/html": [
       " View run at <a href='https://wandb.ai/nhathcmus/explain-representation/runs/74uszk3u' target=\"_blank\">https://wandb.ai/nhathcmus/explain-representation/runs/74uszk3u</a>"
      ],
      "text/plain": [
       "<IPython.core.display.HTML object>"
      ]
     },
     "metadata": {},
     "output_type": "display_data"
    }
   ],
   "source": [
    "import os\n",
    "import logging\n",
    "from pathlib import Path\n",
    "\n",
    "from dotenv import dotenv_values\n",
    "import wandb\n",
    "import numpy as np\n",
    "import torch\n",
    "import datasets\n",
    "from sklearn.model_selection import train_test_split\n",
    "from matplotlib import pyplot as plt\n",
    "\n",
    "from exrep.registry import load_hf_dataset, save_hf_dataset, load_model, load_tensor, get_artifact, save_tensor\n",
    "\n",
    "if 'notebooks' in os.getcwd():\n",
    "    os.chdir(\"../\")\n",
    "\n",
    "local_config = dotenv_values(\".env\")\n",
    "logging.basicConfig(level=logging.INFO)\n",
    "logger = logging.getLogger(__name__)\n",
    "\n",
    "random_state = 42\n",
    "\n",
    "output_phase_name = \"surrogate\"\n",
    "\n",
    "run = wandb.init(\n",
    "    project=local_config[\"WANDB_PROJECT\"],\n",
    "    config={\n",
    "        \"job_type\": \"train_representation\",\n",
    "        \"num_clusters\": 40,\n",
    "    },\n",
    "    # reinit=True,\n",
    "    # save_code=True,\n",
    ")\n",
    "\n",
    "device = \"cuda:1\""
   ]
  },
  {
   "cell_type": "code",
   "execution_count": 2,
   "metadata": {},
   "outputs": [],
   "source": [
    "train_configs = {\n",
    "    \"target\": dict(\n",
    "        name='mocov3',\n",
    "        variant='resnet50',\n",
    "    ),\n",
    "    \"surrogate\": dict(\n",
    "        output_dim=256,\n",
    "        use_key_encoder=False,\n",
    "    ),\n",
    "    \"loss\": dict(\n",
    "        name=\"KDLossNaive\",\n",
    "        gamma1=1.0,\n",
    "        gamma2=1.0,\n",
    "        temp_student=0.05,\n",
    "        temp_teacher=0.05,\n",
    "    ),\n",
    "    \"optimizer\": dict(\n",
    "        lr=1e-2,\n",
    "        weight_decay=1e-4,\n",
    "    ),\n",
    "}\n",
    "run.config.update(train_configs)"
   ]
  },
  {
   "cell_type": "code",
   "execution_count": 3,
   "metadata": {},
   "outputs": [
    {
     "name": "stderr",
     "output_type": "stream",
     "text": [
      "/blue/thai/hoangx/projects/explain-representation/exrep/registry.py:218: FutureWarning: You are using `torch.load` with `weights_only=False` (the current default value), which uses the default pickle module implicitly. It is possible to construct malicious pickle data which will execute arbitrary code during unpickling (See https://github.com/pytorch/pytorch/blob/main/SECURITY.md#untrusted-models for more details). In a future release, the default value for `weights_only` will be flipped to `True`. This limits the functions that could be executed during unpickling. Arbitrary objects will no longer be allowed to be loaded via this mode unless they are explicitly allowlisted by the user via `torch.serialization.add_safe_globals`. We recommend you start setting `weights_only=True` for any use case where you don't have full control of the loaded file. Please open an issue on GitHub for any issues related to this experimental feature.\n",
      "  tensor = torch.load(file_path, map_location=map_location)\n",
      "/home/hoangx/persist/envs/exrep/lib/python3.12/site-packages/torchvision/transforms/v2/_deprecated.py:42: UserWarning: The transform `ToTensor()` is deprecated and will be removed in a future release. Instead, please use `v2.Compose([v2.ToImage(), v2.ToDtype(torch.float32, scale=True)])`.Output is equivalent up to float precision.\n",
      "  warnings.warn(\n",
      "\u001b[34m\u001b[1mwandb\u001b[0m: Downloading large artifact imagenet-1k-first-20-take-2000_images:latest, 367.90MB. 7 files... \n",
      "\u001b[34m\u001b[1mwandb\u001b[0m:   7 of 7 files downloaded.  \n",
      "Done. 0:0:0.5\n",
      "INFO:exrep.train:Epoch  0, Step    1, Loss: 6.18022, Acc: 0.00\n",
      "INFO:exrep.train:Epoch  0, Step    2, Loss: 5.36058, Acc: 0.00\n",
      "INFO:exrep.train:Epoch  1, Step    3, Loss: 4.77619, Acc: 0.01\n",
      "INFO:exrep.train:Epoch  1, Step    4, Loss: 4.42595, Acc: 0.01\n",
      "INFO:exrep.train:Epoch  2, Step    5, Loss: 4.12653, Acc: 0.01\n",
      "INFO:exrep.train:Epoch  2, Step    6, Loss: 3.98760, Acc: 0.02\n",
      "INFO:exrep.train:Epoch  3, Step    7, Loss: 3.82184, Acc: 0.03\n",
      "INFO:exrep.train:Epoch  3, Step    8, Loss: 3.75159, Acc: 0.03\n",
      "INFO:exrep.train:Epoch  4, Step    9, Loss: 3.63328, Acc: 0.04\n",
      "INFO:exrep.train:Epoch  4, Step   10, Loss: 3.58560, Acc: 0.04\n",
      "INFO:exrep.train:Epoch  5, Step   11, Loss: 3.50588, Acc: 0.04\n",
      "INFO:exrep.train:Epoch  5, Step   12, Loss: 3.46209, Acc: 0.05\n",
      "INFO:exrep.train:Epoch  6, Step   13, Loss: 3.41890, Acc: 0.06\n",
      "INFO:exrep.train:Epoch  6, Step   14, Loss: 3.36670, Acc: 0.06\n",
      "INFO:exrep.train:Epoch  7, Step   15, Loss: 3.35232, Acc: 0.06\n",
      "INFO:exrep.train:Epoch  7, Step   16, Loss: 3.28905, Acc: 0.06\n",
      "INFO:exrep.train:Epoch  8, Step   17, Loss: 3.29433, Acc: 0.06\n",
      "INFO:exrep.train:Epoch  8, Step   18, Loss: 3.22413, Acc: 0.06\n",
      "INFO:exrep.train:Epoch  9, Step   19, Loss: 3.24144, Acc: 0.07\n",
      "INFO:exrep.train:Epoch  9, Step   20, Loss: 3.16966, Acc: 0.07\n",
      "INFO:exrep.train:Epoch 10, Step   21, Loss: 3.19363, Acc: 0.07\n",
      "INFO:exrep.train:Epoch 10, Step   22, Loss: 3.12368, Acc: 0.08\n",
      "INFO:exrep.train:Epoch 11, Step   23, Loss: 3.15129, Acc: 0.08\n",
      "INFO:exrep.train:Epoch 11, Step   24, Loss: 3.08414, Acc: 0.08\n",
      "INFO:exrep.train:Epoch 12, Step   25, Loss: 3.11442, Acc: 0.09\n",
      "INFO:exrep.train:Epoch 12, Step   26, Loss: 3.04914, Acc: 0.09\n",
      "INFO:exrep.train:Epoch 13, Step   27, Loss: 3.08220, Acc: 0.09\n",
      "INFO:exrep.train:Epoch 13, Step   28, Loss: 3.01673, Acc: 0.10\n",
      "INFO:exrep.train:Epoch 14, Step   29, Loss: 3.05307, Acc: 0.10\n",
      "INFO:exrep.train:Epoch 14, Step   30, Loss: 2.98566, Acc: 0.10\n",
      "INFO:exrep.train:Epoch 15, Step   31, Loss: 3.02617, Acc: 0.10\n",
      "INFO:exrep.train:Epoch 15, Step   32, Loss: 2.95629, Acc: 0.10\n",
      "INFO:exrep.train:Epoch 16, Step   33, Loss: 3.00180, Acc: 0.10\n",
      "INFO:exrep.train:Epoch 16, Step   34, Loss: 2.92969, Acc: 0.10\n",
      "INFO:exrep.train:Epoch 17, Step   35, Loss: 2.98023, Acc: 0.10\n",
      "INFO:exrep.train:Epoch 17, Step   36, Loss: 2.90610, Acc: 0.10\n",
      "INFO:exrep.train:Epoch 18, Step   37, Loss: 2.96083, Acc: 0.11\n",
      "INFO:exrep.train:Epoch 18, Step   38, Loss: 2.88483, Acc: 0.11\n",
      "INFO:exrep.train:Epoch 19, Step   39, Loss: 2.94275, Acc: 0.11\n",
      "INFO:exrep.train:Epoch 19, Step   40, Loss: 2.86523, Acc: 0.11\n"
     ]
    }
   ],
   "source": [
    "%load_ext autoreload\n",
    "%autoreload 2\n",
    "\n",
    "from scripts.train_surrogate import train_surrogate_experiment\n",
    "\n",
    "model, logs = train_surrogate_experiment(run, device=device, save=False)"
   ]
  },
  {
   "cell_type": "code",
   "execution_count": 5,
   "metadata": {},
   "outputs": [
    {
     "data": {
      "text/plain": [
       "[{'epoch': 0,\n",
       "  'step': 2,\n",
       "  'val_grad_estimator': 4.864956378936768,\n",
       "  'val_loss': 4.864956378936768,\n",
       "  'val_accuracy': 0.004000000189989805},\n",
       " {'epoch': 1,\n",
       "  'step': 4,\n",
       "  'val_grad_estimator': 4.267549514770508,\n",
       "  'val_loss': 4.267549514770508,\n",
       "  'val_accuracy': 0.014000000432133675},\n",
       " {'epoch': 2,\n",
       "  'step': 6,\n",
       "  'val_grad_estimator': 4.002315998077393,\n",
       "  'val_loss': 4.002315998077393,\n",
       "  'val_accuracy': 0.02200000174343586},\n",
       " {'epoch': 3,\n",
       "  'step': 8,\n",
       "  'val_grad_estimator': 3.8407297134399414,\n",
       "  'val_loss': 3.8407297134399414,\n",
       "  'val_accuracy': 0.029000001028180122},\n",
       " {'epoch': 4,\n",
       "  'step': 10,\n",
       "  'val_grad_estimator': 3.732585906982422,\n",
       "  'val_loss': 3.732585906982422,\n",
       "  'val_accuracy': 0.021000001579523087},\n",
       " {'epoch': 5,\n",
       "  'step': 12,\n",
       "  'val_grad_estimator': 3.6620190143585205,\n",
       "  'val_loss': 3.6620190143585205,\n",
       "  'val_accuracy': 0.02200000174343586},\n",
       " {'epoch': 6,\n",
       "  'step': 14,\n",
       "  'val_grad_estimator': 3.612220287322998,\n",
       "  'val_loss': 3.612220287322998,\n",
       "  'val_accuracy': 0.03100000135600567},\n",
       " {'epoch': 7,\n",
       "  'step': 16,\n",
       "  'val_grad_estimator': 3.57352876663208,\n",
       "  'val_loss': 3.57352876663208,\n",
       "  'val_accuracy': 0.03700000047683716},\n",
       " {'epoch': 8,\n",
       "  'step': 18,\n",
       "  'val_grad_estimator': 3.5434250831604004,\n",
       "  'val_loss': 3.5434250831604004,\n",
       "  'val_accuracy': 0.03800000250339508},\n",
       " {'epoch': 9,\n",
       "  'step': 20,\n",
       "  'val_grad_estimator': 3.521367311477661,\n",
       "  'val_loss': 3.521367311477661,\n",
       "  'val_accuracy': 0.04400000348687172},\n",
       " {'epoch': 10,\n",
       "  'step': 22,\n",
       "  'val_grad_estimator': 3.5059475898742676,\n",
       "  'val_loss': 3.5059475898742676,\n",
       "  'val_accuracy': 0.04400000348687172},\n",
       " {'epoch': 11,\n",
       "  'step': 24,\n",
       "  'val_grad_estimator': 3.4949395656585693,\n",
       "  'val_loss': 3.4949395656585693,\n",
       "  'val_accuracy': 0.04400000348687172},\n",
       " {'epoch': 12,\n",
       "  'step': 26,\n",
       "  'val_grad_estimator': 3.4859864711761475,\n",
       "  'val_loss': 3.4859864711761475,\n",
       "  'val_accuracy': 0.04700000211596489},\n",
       " {'epoch': 13,\n",
       "  'step': 28,\n",
       "  'val_grad_estimator': 3.4774022102355957,\n",
       "  'val_loss': 3.4774022102355957,\n",
       "  'val_accuracy': 0.05300000309944153},\n",
       " {'epoch': 14,\n",
       "  'step': 30,\n",
       "  'val_grad_estimator': 3.468973398208618,\n",
       "  'val_loss': 3.468973398208618,\n",
       "  'val_accuracy': 0.055000003427267075},\n",
       " {'epoch': 15,\n",
       "  'step': 32,\n",
       "  'val_grad_estimator': 3.461638927459717,\n",
       "  'val_loss': 3.461638927459717,\n",
       "  'val_accuracy': 0.05900000408291817},\n",
       " {'epoch': 16,\n",
       "  'step': 34,\n",
       "  'val_grad_estimator': 3.456167221069336,\n",
       "  'val_loss': 3.456167221069336,\n",
       "  'val_accuracy': 0.06000000238418579},\n",
       " {'epoch': 17,\n",
       "  'step': 36,\n",
       "  'val_grad_estimator': 3.452440023422241,\n",
       "  'val_loss': 3.452440023422241,\n",
       "  'val_accuracy': 0.06000000238418579},\n",
       " {'epoch': 18,\n",
       "  'step': 38,\n",
       "  'val_grad_estimator': 3.4499001502990723,\n",
       "  'val_loss': 3.4499001502990723,\n",
       "  'val_accuracy': 0.06599999964237213},\n",
       " {'epoch': 19,\n",
       "  'step': 40,\n",
       "  'val_grad_estimator': 3.4481608867645264,\n",
       "  'val_loss': 3.4481608867645264,\n",
       "  'val_accuracy': 0.06800000369548798}]"
      ]
     },
     "execution_count": 5,
     "metadata": {},
     "output_type": "execute_result"
    }
   ],
   "source": [
    "logs['val']"
   ]
  },
  {
   "cell_type": "code",
   "execution_count": 9,
   "metadata": {},
   "outputs": [
    {
     "data": {
      "text/plain": [
       "<matplotlib.legend.Legend at 0x14bf7816f4d0>"
      ]
     },
     "execution_count": 9,
     "metadata": {},
     "output_type": "execute_result"
    },
    {
     "data": {
      "image/png": "[encoded data removed]",
      "text/plain": [
       "<Figure size 640x480 with 2 Axes>"
      ]
     },
     "metadata": {},
     "output_type": "display_data"
    }
   ],
   "source": [
    "fig, ax = plt.subplots()\n",
    "\n",
    "twin1 = ax.twinx()\n",
    "\n",
    "p1, = ax.plot([log[\"step\"] for log in logs[\"train\"]], [log[\"loss\"] for log in logs[\"train\"]], 'C0', label=\"train loss\")\n",
    "p2, = ax.plot([log[\"step\"] for log in logs[\"val\"]], [log[\"val_loss\"] for log in logs[\"val\"]], 'C1', label=\"val loss\")\n",
    "p3, = twin1.plot([log[\"step\"] for log in logs[\"val\"]], [log[\"val_accuracy\"] for log in logs[\"val\"]], 'C2', label=\"pretext val acc\")\n",
    "p4, = twin1.plot([log[\"step\"] for log in logs[\"train\"]], [log[\"accuracy\"] for log in logs[\"train\"]], 'C3', label=\"train acc\")\n",
    "\n",
    "ax.set_ylabel(\"loss\")\n",
    "ax.set_xlabel(\"step\")\n",
    "# ax.set_ylim([0, 1])\n",
    "twin1.set_ylabel(\"accuracy\")\n",
    "ax.legend(handles=[p1, p2, p3, p4])"
   ]
  },
  {
   "cell_type": "code",
   "execution_count": 4,
   "metadata": {},
   "outputs": [
    {
     "name": "stderr",
     "output_type": "stream",
     "text": [
      "\u001b[34m\u001b[1mwandb\u001b[0m: Downloading large artifact imagenet-1k-first-20-take-2000_images:latest, 367.90MB. 7 files... \n",
      "\u001b[34m\u001b[1mwandb\u001b[0m:   7 of 7 files downloaded.  \n",
      "Done. 0:0:0.5\n"
     ]
    }
   ],
   "source": [
    "from operator import itemgetter\n",
    "from scripts.train_surrogate import load_data_from_runs\n",
    "from exrep.model import init_target\n",
    "from exrep.loss import init_loss\n",
    "\n",
    "loss_fn = init_loss(**run.config.loss)\n",
    "\n",
    "train_dataloader, val_dataloader, data_sizes = load_data_from_runs(run, batch_size=512, device=device)\n",
    "samples_batch = next(iter(val_dataloader))\n",
    "batch_features, batch_images, labels, _ = itemgetter(\"inputs\", \"image\", \"label\", \"indices\")(samples_batch)\n",
    "batch_features = batch_features.to(device)\n",
    "batch_images = batch_images.to(device)\n",
    "\n",
    "target_model = init_target(**run.config.target, device=device)\n",
    "\n",
    "with torch.inference_mode():\n",
    "    queries_teacher, keys_teacher, key_embeddings = target_model.self_sim(batch_images)\n",
    "    # queries_student, keys_student = model(batch_features, key_embeddings)"
   ]
  },
  {
   "cell_type": "code",
   "execution_count": 10,
   "metadata": {},
   "outputs": [],
   "source": [
    "queries_student = torch.nn.functional.normalize(queries_student, dim=-1)\n",
    "keys_student = torch.nn.functional.normalize(keys_student, dim=-1)\n",
    "queries_teacher = torch.nn.functional.normalize(queries_teacher, dim=-1)\n",
    "keys_teacher = torch.nn.functional.normalize(keys_teacher, dim=-1)"
   ]
  },
  {
   "cell_type": "code",
   "execution_count": 13,
   "metadata": {},
   "outputs": [
    {
     "data": {
      "text/plain": [
       "tensor([[ 0.1655,  0.1197,  0.1091,  ..., -0.3600, -0.0136,  0.0662],\n",
       "        [ 0.1305, -0.2111,  0.0485,  ..., -0.0447,  0.1439, -0.1244],\n",
       "        [-0.2504,  0.0897, -0.2628,  ..., -0.0293, -0.2342,  0.2432],\n",
       "        ...,\n",
       "        [ 0.2058, -0.0485,  0.2424,  ..., -0.3885,  0.2390,  0.0015],\n",
       "        [ 0.2487, -0.1362,  0.1345,  ..., -0.0621, -0.1517, -0.1440],\n",
       "        [ 0.3313, -0.1133,  0.0745,  ..., -0.0063,  0.2246,  0.2170]],\n",
       "       device='cuda:1')"
      ]
     },
     "execution_count": 13,
     "metadata": {},
     "output_type": "execute_result"
    }
   ],
   "source": [
    "queries_student"
   ]
  },
  {
   "cell_type": "code",
   "execution_count": 14,
   "metadata": {},
   "outputs": [
    {
     "data": {
      "text/plain": [
       "tensor([[ 0.2869, -0.2357,  0.0900,  ..., -0.2049,  0.0948,  0.0375],\n",
       "        [ 0.0360, -0.3155,  0.1873,  ..., -0.2025,  0.0757,  0.0881],\n",
       "        [ 0.0886, -0.2707,  0.2708,  ..., -0.2062,  0.0919,  0.0714],\n",
       "        ...,\n",
       "        [ 0.2832, -0.2101,  0.0973,  ..., -0.1697,  0.1804,  0.0500],\n",
       "        [ 0.2454, -0.1816,  0.2636,  ..., -0.2056,  0.0910, -0.0445],\n",
       "        [ 0.2977, -0.2528,  0.2425,  ..., -0.2208,  0.1716,  0.0836]],\n",
       "       device='cuda:1')"
      ]
     },
     "execution_count": 14,
     "metadata": {},
     "output_type": "execute_result"
    }
   ],
   "source": [
    "keys_student"
   ]
  },
  {
   "cell_type": "code",
   "execution_count": 15,
   "metadata": {},
   "outputs": [
    {
     "data": {
      "text/plain": [
       "tensor([[0.0060, 0.0040, 0.0020,  ..., 0.0010, 0.0010, 0.0020],\n",
       "        [0.0150, 0.0090, 0.0050,  ..., 0.0010, 0.0060, 0.0050],\n",
       "        [0.0000, 0.0010, 0.0010,  ..., 0.0010, 0.0010, 0.0000],\n",
       "        ...,\n",
       "        [0.0020, 0.0040, 0.0040,  ..., 0.0100, 0.0020, 0.0020],\n",
       "        [0.0050, 0.0030, 0.0020,  ..., 0.0030, 0.0120, 0.0030],\n",
       "        [0.0090, 0.0010, 0.0030,  ..., 0.0020, 0.0040, 0.0170]],\n",
       "       device='cuda:1')"
      ]
     },
     "execution_count": 15,
     "metadata": {},
     "output_type": "execute_result"
    }
   ],
   "source": [
    "torch.round(torch.softmax(queries_student @ keys_student.T / 0.1, dim=1), decimals=3)"
   ]
  },
  {
   "cell_type": "code",
   "execution_count": 17,
   "metadata": {},
   "outputs": [
    {
     "data": {
      "text/plain": [
       "tensor(41, device='cuda:1')"
      ]
     },
     "execution_count": 17,
     "metadata": {},
     "output_type": "execute_result"
    }
   ],
   "source": [
    "((queries_student @ keys_student.T).argmax(dim=1) == torch.arange(0, 512).to(device)).sum()"
   ]
  },
  {
   "cell_type": "code",
   "execution_count": 18,
   "metadata": {},
   "outputs": [],
   "source": [
    "x = batch_images"
   ]
  },
  {
   "cell_type": "code",
   "execution_count": 21,
   "metadata": {},
   "outputs": [],
   "source": [
    "with torch.no_grad():\n",
    "    h = target_model.base_encoder(x)\n",
    "    x_proj = target_model.projector(h)\n",
    "    z = target_model.predictor(x_proj)"
   ]
  },
  {
   "cell_type": "code",
   "execution_count": 24,
   "metadata": {},
   "outputs": [
    {
     "data": {
      "text/plain": [
       "tensor(512)"
      ]
     },
     "execution_count": 24,
     "metadata": {},
     "output_type": "execute_result"
    }
   ],
   "source": [
    "(torch.softmax(loss_fn.get_scaled_sim(z, h_momen, 1), dim=1).argmax(dim=1).cpu() == torch.arange(0, 512)).sum()"
   ]
  },
  {
   "cell_type": "code",
   "execution_count": 26,
   "metadata": {},
   "outputs": [
    {
     "data": {
      "text/plain": [
       "tensor(5.3800, device='cuda:1')"
      ]
     },
     "execution_count": 26,
     "metadata": {},
     "output_type": "execute_result"
    }
   ],
   "source": [
    "torch.nn.functional.cross_entropy(\n",
    "    loss_fn.get_scaled_sim(z, h_momen, 1),\n",
    "    torch.arange(0, 512).to(device),\n",
    ")"
   ]
  },
  {
   "cell_type": "code",
   "execution_count": 23,
   "metadata": {},
   "outputs": [],
   "source": [
    "with torch.no_grad():\n",
    "    h_momen = target_model.model.momentum_encoder(x)"
   ]
  },
  {
   "cell_type": "code",
   "execution_count": 16,
   "metadata": {},
   "outputs": [
    {
     "data": {
      "text/plain": [
       "tensor([[ 1.0539, -0.0286,  0.9931,  ..., -0.0202,  0.4289,  0.1627],\n",
       "        [ 1.2701, -0.2168,  0.3956,  ..., -0.2498, -0.0049,  0.8681],\n",
       "        [-0.2078,  0.2631,  0.2922,  ..., -1.2634, -0.1340,  0.3664],\n",
       "        ...,\n",
       "        [ 1.8823, -1.0362, -1.8931,  ..., -2.3653, -0.3285,  1.4250],\n",
       "        [-0.2584,  0.1912, -0.1231,  ...,  0.3235,  0.5287,  0.8251],\n",
       "        [-0.7633,  0.5527,  0.2063,  ..., -1.7018,  0.8414, -0.3228]],\n",
       "       device='cuda:1')"
      ]
     },
     "execution_count": 16,
     "metadata": {},
     "output_type": "execute_result"
    }
   ],
   "source": [
    "h_momen"
   ]
  },
  {
   "cell_type": "code",
   "execution_count": 22,
   "metadata": {},
   "outputs": [
    {
     "data": {
      "text/plain": [
       "tensor(0.7366, device='cuda:1')"
      ]
     },
     "execution_count": 22,
     "metadata": {},
     "output_type": "execute_result"
    }
   ],
   "source": [
    "torch.diagonal(torch.round(torch.softmax(queries_teacher @ keys_teacher.T / 0.05, dim=1), decimals=3)).mean()"
   ]
  },
  {
   "cell_type": "code",
   "execution_count": 33,
   "metadata": {},
   "outputs": [
    {
     "data": {
      "text/plain": [
       "tensor(0.4298, device='cuda:1')"
      ]
     },
     "execution_count": 33,
     "metadata": {},
     "output_type": "execute_result"
    }
   ],
   "source": [
    "torch.nn.functional.kl_div(\n",
    "    torch.nn.functional.log_softmax(queries_student @ keys_student.T / 0.2, dim=1),\n",
    "    torch.nn.functional.log_softmax(queries_teacher @ keys_teacher.T / 0.2, dim=1),\n",
    "    reduction='batchmean',\n",
    "    log_target=True,\n",
    ")"
   ]
  },
  {
   "cell_type": "code",
   "execution_count": 98,
   "metadata": {},
   "outputs": [
    {
     "data": {
      "image/png": "[encoded data removed]",
      "text/plain": [
       "<Figure size 640x480 with 1 Axes>"
      ]
     },
     "metadata": {},
     "output_type": "display_data"
    }
   ],
   "source": [
    "import matplotlib.pyplot as plt\n",
    "\n",
    "x = [20, 30, 40, 80]\n",
    "y1 = [0.51, 0.59, 0.69, 0.71]\n",
    "y2 = [0.615, 0.61, 0.589, 0.571]\n",
    "y3 = [0.465, 0.545, 0.6, 0.615]\n",
    "\n",
    "fig, ax = plt.subplots()\n",
    "ax.plot(x, y1, label=\"Surrogate accuracy\")\n",
    "ax.plot(x, y2, label=\"KD validation loss\")\n",
    "ax.plot(x, y3, label=\"Faithfulness (accuracy)\")\n",
    "ax.set_xlabel(\"Number of concepts\")\n",
    "plt.axhline(y=0.735, linestyle=\"--\", color=\"black\", label=\"Target model accuracy\")\n",
    "ax.set_ybound(0.45, 0.8)\n",
    "# set x log scale\n",
    "ax.set_xscale('log')\n",
    "ax.legend()\n",
    "\n",
    "plt.show()"
   ]
  }
 ],
 "metadata": {
  "kernelspec": {
   "display_name": "exrep",
   "language": "python",
   "name": "python3"
  },
  "language_info": {
   "codemirror_mode": {
    "name": "ipython",
    "version": 3
   },
   "file_extension": ".py",
   "mimetype": "text/x-python",
   "name": "python",
   "nbconvert_exporter": "python",
   "pygments_lexer": "ipython3",
   "version": "3.12.8"
  }
 },
 "nbformat": 4,
 "nbformat_minor": 2
}
