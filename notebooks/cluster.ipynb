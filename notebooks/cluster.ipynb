{
 "cells": [
  {
   "cell_type": "code",
   "execution_count": 1,
   "metadata": {},
   "outputs": [],
   "source": [
    "import logging\n",
    "import os\n",
    "import pickle\n",
    "\n",
    "import wandb\n",
    "import datasets\n",
    "import torch\n",
    "import numpy as np\n",
    "from dotenv import dotenv_values\n",
    "from tqdm.notebook import tqdm\n",
    "from matplotlib import pyplot as plt\n",
    "from sklearn.cluster import AgglomerativeClustering, KMeans\n",
    "from sklearn.decomposition import PCA\n",
    "from transformers import pipeline, AutoImageProcessor, AutoModel\n",
    "from transformers.image_processing_base import BatchFeature\n",
    "from scipy.cluster.hierarchy import dendrogram\n",
    "\n",
    "logging.basicConfig(level=logging.INFO)\n",
    "logger = logging.getLogger(__name__)\n",
    "\n",
    "device = \"cuda:0\"\n",
    "\n",
    "if 'notebooks' in os.getcwd():\n",
    "    os.chdir(\"../\")"
   ]
  },
  {
   "cell_type": "code",
   "execution_count": 2,
   "metadata": {},
   "outputs": [
    {
     "name": "stderr",
     "output_type": "stream",
     "text": [
      "\u001b[34m\u001b[1mwandb\u001b[0m: Currently logged in as: \u001b[33mnhathcmus\u001b[0m to \u001b[32mhttps://api.wandb.ai\u001b[0m. Use \u001b[1m`wandb login --relogin`\u001b[0m to force relogin\n",
      "\u001b[34m\u001b[1mwandb\u001b[0m: Using wandb-core as the SDK backend.  Please refer to https://wandb.me/wandb-core for more information.\n"
     ]
    },
    {
     "data": {
      "text/html": [
       "Tracking run with wandb version 0.19.6"
      ],
      "text/plain": [
       "<IPython.core.display.HTML object>"
      ]
     },
     "metadata": {},
     "output_type": "display_data"
    },
    {
     "data": {
      "text/html": [
       "Run data is saved locally in <code>/blue/thai/hoangx/projects/explain-representation/wandb/run-20250216_225147-cvx882iu</code>"
      ],
      "text/plain": [
       "<IPython.core.display.HTML object>"
      ]
     },
     "metadata": {},
     "output_type": "display_data"
    },
    {
     "data": {
      "text/html": [
       "Syncing run <strong><a href='https://wandb.ai/nhathcmus/explain-representation/runs/cvx882iu' target=\"_blank\">warm-waterfall-85</a></strong> to <a href='https://wandb.ai/nhathcmus/explain-representation' target=\"_blank\">Weights & Biases</a> (<a href='https://wandb.me/developer-guide' target=\"_blank\">docs</a>)<br>"
      ],
      "text/plain": [
       "<IPython.core.display.HTML object>"
      ]
     },
     "metadata": {},
     "output_type": "display_data"
    },
    {
     "data": {
      "text/html": [
       " View project at <a href='https://wandb.ai/nhathcmus/explain-representation' target=\"_blank\">https://wandb.ai/nhathcmus/explain-representation</a>"
      ],
      "text/plain": [
       "<IPython.core.display.HTML object>"
      ]
     },
     "metadata": {},
     "output_type": "display_data"
    },
    {
     "data": {
      "text/html": [
       " View run at <a href='https://wandb.ai/nhathcmus/explain-representation/runs/cvx882iu' target=\"_blank\">https://wandb.ai/nhathcmus/explain-representation/runs/cvx882iu</a>"
      ],
      "text/plain": [
       "<IPython.core.display.HTML object>"
      ]
     },
     "metadata": {},
     "output_type": "display_data"
    }
   ],
   "source": [
    "local_config = dotenv_values(\".env\")\n",
    "\n",
    "run = wandb.init(\n",
    "    project=local_config[\"WANDB_PROJECT\"],\n",
    "    config={\n",
    "        \"job_type\": \"concept-generation\",\n",
    "    },\n",
    "    save_code=False,\n",
    ")"
   ]
  },
  {
   "cell_type": "code",
   "execution_count": 12,
   "metadata": {},
   "outputs": [
    {
     "name": "stderr",
     "output_type": "stream",
     "text": [
      "INFO:exrep.registry:Loading data from local data dir data/imagenet-1k-first-20-take-2000_crops\n",
      "INFO:exrep.registry:Loading data from local data dir data/imagenet-1k-first-20-take-2000_images\n"
     ]
    },
    {
     "name": "stdout",
     "output_type": "stream",
     "text": [
      "The autoreload extension is already loaded. To reload it, use:\n",
      "  %reload_ext autoreload\n"
     ]
    }
   ],
   "source": [
    "%load_ext autoreload\n",
    "%autoreload 2\n",
    "from exrep.registry import load_data, save_tensor, load_entry, save_file, save_pickle\n",
    "from exrep.utils import generic_map\n",
    "\n",
    "crops_dataset = load_data(\n",
    "    base_name=\"imagenet\",\n",
    "    phase=\"crops\",\n",
    "    load_local=True,\n",
    ")\n",
    "\n",
    "image_dataset = load_data(\n",
    "    base_name=\"imagenet\",\n",
    "    phase=\"images\",\n",
    "    load_local=True,\n",
    ")"
   ]
  },
  {
   "cell_type": "code",
   "execution_count": 4,
   "metadata": {},
   "outputs": [],
   "source": [
    "# we either compute the clustering or load it from disk\n",
    "load_clustering = True\n",
    "\n",
    "if not load_clustering:\n",
    "    processor = AutoImageProcessor.from_pretrained(\"facebook/dinov2-base\")\n",
    "    model = AutoModel.from_pretrained(\"facebook/dinov2-base\").to(device)\n",
    "    dataloader = torch.utils.data.DataLoader(\n",
    "        crops_dataset.with_transform(\n",
    "            lambda x: processor(images=x['crops'], return_tensors=\"pt\")\n",
    "        ),\n",
    "        batch_size=128,\n",
    "    )\n",
    "    embeddings = generic_map(\n",
    "        model,\n",
    "        dataloader,\n",
    "        post_proc_fn=lambda x: x.pooler_output,\n",
    "        input_format=\"keyword\",\n",
    "        device=device\n",
    "    )\n",
    "    logger.info(\"Embeddings shape: %s\", embeddings.shape)\n",
    "\n",
    "    clustering = AgglomerativeClustering(n_clusters=1, metric='euclidean', compute_distances=True).fit(embeddings.cpu().numpy())\n",
    "\n",
    "    with open(\"outputs/clustering.pkl\", \"wb\") as f:\n",
    "        pickle.dump(clustering, f)\n",
    "    \n",
    "    save_file(\n",
    "        base_name=\"imagenet\",\n",
    "        phase=\"clustering\",\n",
    "        type=\"scikit-clustering\",\n",
    "        file_path=\"outputs/clustering.pkl\",\n",
    "        file_name=\"agglomerative.pkl\",\n",
    "        wandb_run=run,\n",
    "    )\n",
    "else:\n",
    "    clustering_pkl = load_entry(\n",
    "        artifact_name=\"imagenet-1k-first-20-take-2000_clustering\",\n",
    "        file_name=\"agglomerative.pkl\",\n",
    "        wandb_run=run,\n",
    "    )\n",
    "    with open(clustering_pkl, \"rb\") as f:\n",
    "        clustering = pickle.load(f)\n",
    "    dendograms = {}"
   ]
  },
  {
   "cell_type": "code",
   "execution_count": null,
   "metadata": {},
   "outputs": [],
   "source": [
    "from exrep.viz import plot_dendrogram, get_cluster_leaves, get_cluster_children"
   ]
  },
  {
   "cell_type": "code",
   "execution_count": 6,
   "metadata": {},
   "outputs": [
    {
     "data": {
      "image/png": "[encoded data removed]",
      "text/plain": [
       "<Figure size 640x480 with 1 Axes>"
      ]
     },
     "metadata": {},
     "output_type": "display_data"
    }
   ],
   "source": [
    "clusters_to_compute = [20, 40, 80, 160, 320]\n",
    "clusters_to_viz = clusters_to_compute[0]\n",
    "\n",
    "for n_clusters in clusters_to_compute:\n",
    "    if n_clusters not in dendograms:\n",
    "        dendograms[n_clusters] = plot_dendrogram(\n",
    "            clustering, truncate_mode=\"lastp\", p=n_clusters, leaf_rotation=90, \n",
    "            no_plot=n_clusters!=clusters_to_viz\n",
    "        )\n",
    "\n",
    "plt.title(f\"Hierarchical Clustering Dendrogram - {clusters_to_viz} clusters\")\n",
    "# plot the top three levels of the dendrogram\n",
    "plt.xlabel(\"Number of points in node (or index of point if no parenthesis).\")\n",
    "plt.show()"
   ]
  },
  {
   "cell_type": "code",
   "execution_count": null,
   "metadata": {},
   "outputs": [],
   "source": [
    "# upper_to_lower = get_cluster_children(clustering, dendograms[20]['leaves'], dendograms[80]['leaves'])\n",
    "# upper_to_lower"
   ]
  },
  {
   "cell_type": "code",
   "execution_count": null,
   "metadata": {},
   "outputs": [],
   "source": [
    "# cluster_to_viz = 20462\n",
    "# viz_labels, subtrees = get_cluster_leaves(upper_to_lower[cluster_to_viz], clustering)\n",
    "# viz_clusters(upper_to_lower[cluster_to_viz], viz_labels)"
   ]
  },
  {
   "cell_type": "code",
   "execution_count": null,
   "metadata": {},
   "outputs": [
    {
     "data": {
      "application/vnd.jupyter.widget-view+json": {
       "model_id": "b82b63f7599b4a3c8f8fcd84744b954a",
       "version_major": 2,
       "version_minor": 0
      },
      "text/plain": [
       "Map (num_proc=2):   0%|          | 0/10291 [00:00<?, ? examples/s]"
      ]
     },
     "metadata": {},
     "output_type": "display_data"
    },
    {
     "name": "stderr",
     "output_type": "stream",
     "text": [
      "INFO:__main__:Local encoding for 20 clusters has shape (2000, 20) and sum 3968.0\n",
      "INFO:exrep.registry:Creating artifact imagenet-1k-first-20-take-2000_local-encoding_agglomerative:latest on wandb\n",
      "INFO:__main__:Local encoding for 40 clusters has shape (2000, 40) and sum 4953.0\n",
      "INFO:__main__:Local encoding for 80 clusters has shape (2000, 78) and sum 5507.0\n",
      "INFO:__main__:Local encoding for 160 clusters has shape (2000, 153) and sum 5907.0\n",
      "INFO:__main__:Local encoding for 320 clusters has shape (2000, 277) and sum 6240.0\n"
     ]
    },
    {
     "data": {
      "text/plain": [
       "<Artifact imagenet-1k-first-20-take-2000_local-encoding_agglomerative>"
      ]
     },
     "execution_count": 13,
     "metadata": {},
     "output_type": "execute_result"
    }
   ],
   "source": [
    "from typing import Sequence\n",
    "from sklearn.preprocessing import LabelEncoder\n",
    "\n",
    "indexed_crops_dataset = crops_dataset.map(\n",
    "    lambda x: {\"image_index\": x.split(\"_\")[0]},\n",
    "    input_columns=\"index\",\n",
    "    keep_in_memory=True, \n",
    "    remove_columns=crops_dataset.column_names,\n",
    "    num_proc=2, \n",
    ")\n",
    "\n",
    "def compute_local_encoding(\n",
    "    cluster_ids: Sequence[int], clustering, indexed_crops_dataset: datasets.Dataset,\n",
    "    n_images: int,\n",
    "    min_cluster_size=5,\n",
    "):\n",
    "    cluster_labels, _ = get_cluster_leaves(cluster_ids, clustering)\n",
    "    # filter out clusters with less than min_cluster_size elements\n",
    "    cluster_indices = {}\n",
    "    for i in cluster_ids:\n",
    "        crop_indices = np.where(cluster_labels == i)[0]\n",
    "        image_indices = np.unique(indexed_crops_dataset[crop_indices]['image_index']).astype(int)\n",
    "        if len(image_indices) >= min_cluster_size:\n",
    "            cluster_indices[i] = image_indices\n",
    "\n",
    "    label_encoder = LabelEncoder().fit(list(cluster_indices.keys()))\n",
    "    local_encoding = np.zeros((n_images, label_encoder.classes_.shape[0]))\n",
    "    normalized_ids = label_encoder.transform(list(cluster_indices.keys()))\n",
    "    for i, indices in zip(normalized_ids, cluster_indices.values()):\n",
    "        local_encoding[indices, i] = 1\n",
    "    return local_encoding, label_encoder\n",
    "\n",
    "artifact = None\n",
    "for n_clusters in clusters_to_compute:\n",
    "    local_encoding, label_encoder = compute_local_encoding(dendograms[n_clusters]['leaves'], clustering, indexed_crops_dataset, len(image_dataset))\n",
    "    logger.info(\"Local encoding for %d clusters has shape %s and sum %s\", n_clusters, local_encoding.shape, local_encoding.sum())\n",
    "    artifact = save_tensor(\n",
    "        torch.from_numpy(local_encoding),\n",
    "        base_name=\"imagenet\",\n",
    "        phase=\"local-encoding\",\n",
    "        identifier=f\"agglomerative\",\n",
    "        type=\"torch_tensor\",\n",
    "        metadata={\n",
    "            \"objective\": \"ward\",\n",
    "        },\n",
    "        file_name=f\"local-encoding_{n_clusters}.pt\",\n",
    "        wandb_run=run,\n",
    "        artifact=artifact,\n",
    "        force_create=True,\n",
    "        finalize=False,\n",
    "    )\n",
    "    artifact = save_pickle(\n",
    "        label_encoder,\n",
    "        file_name=f\"label-encoder-{n_clusters}.pkl\",\n",
    "        artifact=artifact,\n",
    "        finalize=False,\n",
    "    )\n",
    "run.log_artifact(artifact)"
   ]
  },
  {
   "cell_type": "code",
   "execution_count": 14,
   "metadata": {},
   "outputs": [
    {
     "data": {
      "text/html": [],
      "text/plain": [
       "<IPython.core.display.HTML object>"
      ]
     },
     "metadata": {},
     "output_type": "display_data"
    },
    {
     "data": {
      "text/html": [
       " View run <strong style=\"color:#cdcd00\">warm-waterfall-85</strong> at: <a href='https://wandb.ai/nhathcmus/explain-representation/runs/cvx882iu' target=\"_blank\">https://wandb.ai/nhathcmus/explain-representation/runs/cvx882iu</a><br> View project at: <a href='https://wandb.ai/nhathcmus/explain-representation' target=\"_blank\">https://wandb.ai/nhathcmus/explain-representation</a><br>Synced 5 W&B file(s), 0 media file(s), 4 artifact file(s) and 0 other file(s)"
      ],
      "text/plain": [
       "<IPython.core.display.HTML object>"
      ]
     },
     "metadata": {},
     "output_type": "display_data"
    },
    {
     "data": {
      "text/html": [
       "Find logs at: <code>./wandb/run-20250216_225147-cvx882iu/logs</code>"
      ],
      "text/plain": [
       "<IPython.core.display.HTML object>"
      ]
     },
     "metadata": {},
     "output_type": "display_data"
    }
   ],
   "source": [
    "wandb.finish()"
   ]
  }
 ],
 "metadata": {
  "kernelspec": {
   "display_name": "exrep",
   "language": "python",
   "name": "python3"
  },
  "language_info": {
   "codemirror_mode": {
    "name": "ipython",
    "version": 3
   },
   "file_extension": ".py",
   "mimetype": "text/x-python",
   "name": "python",
   "nbconvert_exporter": "python",
   "pygments_lexer": "ipython3",
   "version": "3.12.8"
  }
 },
 "nbformat": 4,
 "nbformat_minor": 2
}
