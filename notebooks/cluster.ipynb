{
 "cells": [
  {
   "cell_type": "code",
   "execution_count": 1,
   "metadata": {},
   "outputs": [],
   "source": [
    "import logging\n",
    "import os\n",
    "import pickle\n",
    "\n",
    "import wandb\n",
    "import datasets\n",
    "import torch\n",
    "import numpy as np\n",
    "from dotenv import dotenv_values\n",
    "from tqdm.notebook import tqdm\n",
    "from matplotlib import pyplot as plt\n",
    "from sklearn.cluster import AgglomerativeClustering, KMeans\n",
    "from sklearn.decomposition import PCA\n",
    "from transformers import pipeline, AutoImageProcessor, AutoModel\n",
    "from transformers.image_processing_base import BatchFeature\n",
    "from scipy.cluster.hierarchy import dendrogram\n",
    "\n",
    "logging.basicConfig(level=logging.INFO)\n",
    "logger = logging.getLogger(__name__)\n",
    "\n",
    "device = \"cuda:5\"\n",
    "\n",
    "if 'notebooks' in os.getcwd():\n",
    "    os.chdir(\"../\")"
   ]
  },
  {
   "cell_type": "code",
   "execution_count": 2,
   "metadata": {},
   "outputs": [
    {
     "name": "stderr",
     "output_type": "stream",
     "text": [
      "\u001b[34m\u001b[1mwandb\u001b[0m: Currently logged in as: \u001b[33mnhathcmus\u001b[0m to \u001b[32mhttps://api.wandb.ai\u001b[0m. Use \u001b[1m`wandb login --relogin`\u001b[0m to force relogin\n",
      "\u001b[34m\u001b[1mwandb\u001b[0m: Using wandb-core as the SDK backend.  Please refer to https://wandb.me/wandb-core for more information.\n"
     ]
    },
    {
     "data": {
      "text/html": [
       "Tracking run with wandb version 0.19.6"
      ],
      "text/plain": [
       "<IPython.core.display.HTML object>"
      ]
     },
     "metadata": {},
     "output_type": "display_data"
    },
    {
     "data": {
      "text/html": [
       "Run data is saved locally in <code>/blue/thai/hoangx/projects/explain-representation/wandb/run-20250224_154111-s75iqdeh</code>"
      ],
      "text/plain": [
       "<IPython.core.display.HTML object>"
      ]
     },
     "metadata": {},
     "output_type": "display_data"
    },
    {
     "data": {
      "text/html": [
       "Syncing run <strong><a href='https://wandb.ai/nhathcmus/explain-representation/runs/s75iqdeh' target=\"_blank\">avid-frog-163</a></strong> to <a href='https://wandb.ai/nhathcmus/explain-representation' target=\"_blank\">Weights & Biases</a> (<a href='https://wandb.me/developer-guide' target=\"_blank\">docs</a>)<br>"
      ],
      "text/plain": [
       "<IPython.core.display.HTML object>"
      ]
     },
     "metadata": {},
     "output_type": "display_data"
    },
    {
     "data": {
      "text/html": [
       " View project at <a href='https://wandb.ai/nhathcmus/explain-representation' target=\"_blank\">https://wandb.ai/nhathcmus/explain-representation</a>"
      ],
      "text/plain": [
       "<IPython.core.display.HTML object>"
      ]
     },
     "metadata": {},
     "output_type": "display_data"
    },
    {
     "data": {
      "text/html": [
       " View run at <a href='https://wandb.ai/nhathcmus/explain-representation/runs/s75iqdeh' target=\"_blank\">https://wandb.ai/nhathcmus/explain-representation/runs/s75iqdeh</a>"
      ],
      "text/plain": [
       "<IPython.core.display.HTML object>"
      ]
     },
     "metadata": {},
     "output_type": "display_data"
    }
   ],
   "source": [
    "local_config = dotenv_values(\".env\")\n",
    "\n",
    "run = wandb.init(\n",
    "    project=local_config[\"WANDB_PROJECT\"],\n",
    "    config={\n",
    "        \"job_type\": \"concept-generation\",\n",
    "    },\n",
    "    save_code=False,\n",
    ")"
   ]
  },
  {
   "cell_type": "code",
   "execution_count": 3,
   "metadata": {},
   "outputs": [
    {
     "name": "stderr",
     "output_type": "stream",
     "text": [
      "\u001b[34m\u001b[1mwandb\u001b[0m: Downloading large artifact imagenet-1k-first-20-take-2000_crops:latest, 510.63MB. 7 files... \n",
      "\u001b[34m\u001b[1mwandb\u001b[0m:   7 of 7 files downloaded.  \n",
      "Done. 0:0:0.7\n"
     ]
    },
    {
     "data": {
      "application/vnd.jupyter.widget-view+json": {
       "model_id": "4be4f3de4f0540c8b7b29a21f8a6fd9b",
       "version_major": 2,
       "version_minor": 0
      },
      "text/plain": [
       "Map:   0%|          | 0/4208 [00:00<?, ? examples/s]"
      ]
     },
     "metadata": {},
     "output_type": "display_data"
    },
    {
     "name": "stderr",
     "output_type": "stream",
     "text": [
      "INFO:__main__:Number of images: 3000\n"
     ]
    }
   ],
   "source": [
    "%load_ext autoreload\n",
    "%autoreload 2\n",
    "from exrep.registry import load_hf_dataset, save_tensor, load_entry, save_file, save_pickle, get_artifact\n",
    "from exrep.utils import generic_map\n",
    "\n",
    "alias = 'latest'\n",
    "\n",
    "crops_dataset = load_hf_dataset(\n",
    "    base_name=\"imagenet\",\n",
    "    phase=\"crops\",\n",
    "    alias=alias,\n",
    "    wandb_run=run,\n",
    ").with_format('numpy')\n",
    "\n",
    "offset = np.max(crops_dataset['train']['image_id']) + 1\n",
    "crops_dataset['validation'] = crops_dataset['validation'].map(\n",
    "    lambda x: {\n",
    "        \"image_id\": [y + offset for y in x[\"image_id\"]]\n",
    "    },    \n",
    "    batched=True,\n",
    "    keep_in_memory=True,\n",
    ")\n",
    "\n",
    "combined_crops_dataset = datasets.concatenate_datasets([crops_dataset['train'], crops_dataset['validation']], axis=0)\n",
    "num_images = max(combined_crops_dataset[\"image_id\"]) + 1\n",
    "\n",
    "logger.info(f\"Number of images: {num_images}\")"
   ]
  },
  {
   "cell_type": "code",
   "execution_count": 4,
   "metadata": {},
   "outputs": [
    {
     "name": "stderr",
     "output_type": "stream",
     "text": [
      "Using a slow image processor as `use_fast` is unset and a slow processor was saved with this model. `use_fast=True` will be the default behavior in v4.48, even if the model was saved with a slow processor. This will result in minor differences in outputs. You'll still be able to use a slow processor with `use_fast=False`.\n",
      "100%|██████████| 92/92 [01:03<00:00,  1.45it/s]\n",
      "INFO:__main__:Embeddings shape: torch.Size([11697, 768])\n",
      "INFO:exrep.registry:Creating artifact imagenet-1k-first-20-take-2000_clustering:latest on wandb\n"
     ]
    }
   ],
   "source": [
    "# we either compute the clustering or load it from disk\n",
    "load_clustering = False\n",
    "\n",
    "def perform_clustering(dataset):\n",
    "    processor = AutoImageProcessor.from_pretrained(\"facebook/dinov2-base\")\n",
    "    model = AutoModel.from_pretrained(\"facebook/dinov2-base\").to(device)\n",
    "    dataloader = torch.utils.data.DataLoader(\n",
    "        dataset.with_transform(lambda x: processor(images=x['patches'], return_tensors=\"pt\")), \n",
    "        batch_size=128\n",
    "    )\n",
    "    embeddings = generic_map(\n",
    "        model,\n",
    "        dataloader,\n",
    "        post_proc_fn=lambda x: x.pooler_output,\n",
    "        input_format=\"keyword\",\n",
    "        device=device\n",
    "    )\n",
    "    logger.info(\"Embeddings shape: %s\", embeddings.shape)\n",
    "\n",
    "    clustering = AgglomerativeClustering(n_clusters=1, metric='euclidean', compute_distances=True).fit(embeddings.cpu().numpy())\n",
    "    return clustering\n",
    "\n",
    "if not load_clustering:\n",
    "    clustering = perform_clustering(combined_crops_dataset)\n",
    "    with open(\"outputs/clustering.pkl\", \"wb\") as f:\n",
    "        pickle.dump(clustering, f)\n",
    "    \n",
    "    save_file(\n",
    "        base_name=\"imagenet\",\n",
    "        phase=\"clustering\",\n",
    "        type=\"scikit-clustering\",\n",
    "        file_path=\"outputs/clustering.pkl\",\n",
    "        file_name=\"agglomerative.pkl\",\n",
    "        mode='write-new',\n",
    "        alias=alias,\n",
    "        wandb_run=run,\n",
    "    )\n",
    "else:\n",
    "    clustering_pkl = load_entry(\n",
    "        artifact_name=\"imagenet-1k-first-20-take-2000_clustering\",\n",
    "        file_name=\"agglomerative.pkl\",\n",
    "        wandb_run=run,\n",
    "    )\n",
    "    with open(clustering_pkl, \"rb\") as f:\n",
    "        clustering = pickle.load(f)\n",
    "dendograms = {}"
   ]
  },
  {
   "cell_type": "code",
   "execution_count": 5,
   "metadata": {},
   "outputs": [],
   "source": [
    "from exrep.viz import plot_dendrogram, get_cluster_leaves, get_cluster_children"
   ]
  },
  {
   "cell_type": "code",
   "execution_count": 6,
   "metadata": {},
   "outputs": [
    {
     "data": {
      "image/png": "[encoded data removed]",
      "text/plain": [
       "<Figure size 640x480 with 1 Axes>"
      ]
     },
     "metadata": {},
     "output_type": "display_data"
    }
   ],
   "source": [
    "clusters_to_compute = [20, 40, 80, 160, 320]\n",
    "clusters_to_viz = clusters_to_compute[0]\n",
    "\n",
    "for n_clusters in clusters_to_compute:\n",
    "    if n_clusters not in dendograms:\n",
    "        dendograms[n_clusters] = plot_dendrogram(\n",
    "            clustering, truncate_mode=\"lastp\", p=n_clusters, leaf_rotation=90, \n",
    "            no_plot=n_clusters!=clusters_to_viz\n",
    "        )\n",
    "\n",
    "plt.title(f\"Hierarchical Clustering Dendrogram - {clusters_to_viz} clusters\")\n",
    "# plot the top three levels of the dendrogram\n",
    "plt.xlabel(\"Number of points in node (or index of point if no parenthesis).\")\n",
    "plt.show()"
   ]
  },
  {
   "cell_type": "code",
   "execution_count": 7,
   "metadata": {},
   "outputs": [
    {
     "name": "stderr",
     "output_type": "stream",
     "text": [
      "INFO:exrep.registry:Creating artifact imagenet-1k-first-20-take-2000_local-encoding_agglomerative:latest on wandb\n",
      "INFO:__main__:Train encoding has shape torch.Size([2000, 20]) and sum 4741.0\n",
      "INFO:__main__:Validation encoding has shape torch.Size([1000, 20]) and sum 2568.0\n",
      "INFO:__main__:Train encoding has shape torch.Size([2000, 40]) and sum 5542.0\n",
      "INFO:__main__:Validation encoding has shape torch.Size([1000, 40]) and sum 3055.0\n",
      "INFO:__main__:Train encoding has shape torch.Size([2000, 80]) and sum 6016.0\n",
      "INFO:__main__:Validation encoding has shape torch.Size([1000, 80]) and sum 3355.0\n",
      "INFO:__main__:Train encoding has shape torch.Size([2000, 159]) and sum 6272.0\n",
      "INFO:__main__:Validation encoding has shape torch.Size([1000, 159]) and sum 3493.0\n",
      "INFO:__main__:Train encoding has shape torch.Size([2000, 309]) and sum 6454.0\n",
      "INFO:__main__:Validation encoding has shape torch.Size([1000, 309]) and sum 3605.0\n"
     ]
    },
    {
     "data": {
      "text/plain": [
       "<Artifact imagenet-1k-first-20-take-2000_local-encoding_agglomerative>"
      ]
     },
     "execution_count": 7,
     "metadata": {},
     "output_type": "execute_result"
    }
   ],
   "source": [
    "from typing import Sequence\n",
    "from sklearn.preprocessing import LabelEncoder\n",
    "\n",
    "def compute_local_encoding(\n",
    "    cluster_ids: Sequence[int],\n",
    "    clustering,\n",
    "    crop_to_image_indices: np.array,\n",
    "    n_images: int,\n",
    "    min_cluster_size=5,\n",
    "):\n",
    "    cluster_labels, _ = get_cluster_leaves(cluster_ids, clustering)\n",
    "    # filter out clusters with less than min_cluster_size elements\n",
    "    cluster_indices = {}\n",
    "    for i in cluster_ids:\n",
    "        crop_indices = np.where(cluster_labels == i)[0]\n",
    "        image_indices = np.unique(crop_to_image_indices[crop_indices]).astype(int)\n",
    "        if len(image_indices) >= min_cluster_size:\n",
    "            cluster_indices[i] = image_indices\n",
    "\n",
    "    label_encoder = LabelEncoder().fit(list(cluster_indices.keys()))\n",
    "    local_encoding = np.zeros((n_images, label_encoder.classes_.shape[0]))\n",
    "    normalized_ids = label_encoder.transform(list(cluster_indices.keys()))\n",
    "    for i, indices in zip(normalized_ids, cluster_indices.values()):\n",
    "        local_encoding[indices, i] = 1\n",
    "    return local_encoding, label_encoder\n",
    "\n",
    "artifact = get_artifact(\n",
    "    base_name=\"imagenet\",\n",
    "    phase=\"local-encoding\",\n",
    "    identifier=f\"agglomerative\",\n",
    "    type=\"torch_tensor\",\n",
    "    metadata={\n",
    "        \"objective\": \"ward\",\n",
    "    },\n",
    "    alias=alias,\n",
    "    mode='write-new',\n",
    "    wandb_run=run,\n",
    ")\n",
    "for n_clusters in clusters_to_compute:\n",
    "    local_encoding, label_encoder = compute_local_encoding(\n",
    "        cluster_ids=dendograms[n_clusters]['leaves'],\n",
    "        clustering=clustering,\n",
    "        crop_to_image_indices=np.array(combined_crops_dataset['image_id']),\n",
    "        n_images=num_images,\n",
    "    )\n",
    "    \n",
    "    local_encoding = torch.from_numpy(local_encoding)\n",
    "    train_encoding = local_encoding[:offset]\n",
    "    val_encoding = local_encoding[offset:]\n",
    "    logger.info(\"Train encoding has shape %s and sum %s\", train_encoding.shape, train_encoding.sum().item())\n",
    "    logger.info(\"Validation encoding has shape %s and sum %s\", val_encoding.shape, val_encoding.sum().item())\n",
    "\n",
    "    artifact = save_tensor(\n",
    "        train_encoding,\n",
    "        file_name=f\"local-encoding-{n_clusters}_train.pt\",\n",
    "        artifact=artifact,\n",
    "        mode='readonly',\n",
    "        finalize=False,\n",
    "    )\n",
    "    artifact = save_tensor(\n",
    "        val_encoding,\n",
    "        file_name=f\"local-encoding-{n_clusters}_validation.pt\",\n",
    "        artifact=artifact,\n",
    "        mode='readonly',\n",
    "        finalize=False,\n",
    "    )\n",
    "    artifact = save_pickle(\n",
    "        label_encoder,\n",
    "        file_name=f\"label-encoder-{n_clusters}.pkl\",\n",
    "        artifact=artifact,\n",
    "        mode='readonly',\n",
    "        finalize=False,\n",
    "    )\n",
    "run.log_artifact(artifact)"
   ]
  },
  {
   "cell_type": "code",
   "execution_count": 8,
   "metadata": {},
   "outputs": [
    {
     "data": {
      "text/html": [],
      "text/plain": [
       "<IPython.core.display.HTML object>"
      ]
     },
     "metadata": {},
     "output_type": "display_data"
    },
    {
     "data": {
      "text/html": [
       " View run <strong style=\"color:#cdcd00\">avid-frog-163</strong> at: <a href='https://wandb.ai/nhathcmus/explain-representation/runs/s75iqdeh' target=\"_blank\">https://wandb.ai/nhathcmus/explain-representation/runs/s75iqdeh</a><br> View project at: <a href='https://wandb.ai/nhathcmus/explain-representation' target=\"_blank\">https://wandb.ai/nhathcmus/explain-representation</a><br>Synced 5 W&B file(s), 0 media file(s), 18 artifact file(s) and 0 other file(s)"
      ],
      "text/plain": [
       "<IPython.core.display.HTML object>"
      ]
     },
     "metadata": {},
     "output_type": "display_data"
    },
    {
     "data": {
      "text/html": [
       "Find logs at: <code>./wandb/run-20250224_154111-s75iqdeh/logs</code>"
      ],
      "text/plain": [
       "<IPython.core.display.HTML object>"
      ]
     },
     "metadata": {},
     "output_type": "display_data"
    }
   ],
   "source": [
    "wandb.finish()"
   ]
  }
 ],
 "metadata": {
  "kernelspec": {
   "display_name": "exrep",
   "language": "python",
   "name": "python3"
  },
  "language_info": {
   "codemirror_mode": {
    "name": "ipython",
    "version": 3
   },
   "file_extension": ".py",
   "mimetype": "text/x-python",
   "name": "python",
   "nbconvert_exporter": "python",
   "pygments_lexer": "ipython3",
   "version": "3.12.8"
  }
 },
 "nbformat": 4,
 "nbformat_minor": 2
}
