{
 "cells": [
  {
   "cell_type": "code",
   "execution_count": 1,
   "metadata": {},
   "outputs": [],
   "source": [
    "import logging\n",
    "import os\n",
    "\n",
    "import wandb\n",
    "import datasets\n",
    "import torch\n",
    "import numpy as np\n",
    "from tqdm.notebook import tqdm\n",
    "from matplotlib import pyplot as plt\n",
    "from sklearn.cluster import AgglomerativeClustering, KMeans\n",
    "from sklearn.decomposition import PCA\n",
    "from transformers import pipeline, AutoImageProcessor, AutoModel\n",
    "from transformers.image_processing_base import BatchFeature\n",
    "\n",
    "logger = logging.getLogger(__name__)\n",
    "\n",
    "device = \"cuda:2\"\n",
    "\n",
    "if 'notebooks' in os.getcwd():\n",
    "    os.chdir(\"../\")"
   ]
  },
  {
   "cell_type": "code",
   "execution_count": 2,
   "metadata": {},
   "outputs": [],
   "source": [
    "%load_ext autoreload\n",
    "%autoreload 2\n",
    "from exrep.registry import load_data, save_tensor\n",
    "from exrep.utils import generic_map\n",
    "\n",
    "crops_dataset = load_data(\n",
    "    base_name=\"imagenet\",\n",
    "    phase=\"crops\",\n",
    "    load_local=True,\n",
    ")\n",
    "\n",
    "image_dataset = load_data(\n",
    "    base_name=\"imagenet\",\n",
    "    phase=\"images\",\n",
    "    load_local=True,\n",
    ")"
   ]
  },
  {
   "cell_type": "code",
   "execution_count": 3,
   "metadata": {},
   "outputs": [
    {
     "name": "stderr",
     "output_type": "stream",
     "text": [
      "Using a slow image processor as `use_fast` is unset and a slow processor was saved with this model. `use_fast=True` will be the default behavior in v4.48, even if the model was saved with a slow processor. This will result in minor differences in outputs. You'll still be able to use a slow processor with `use_fast=False`.\n",
      "100%|██████████| 81/81 [03:44<00:00,  2.77s/it]\n"
     ]
    },
    {
     "data": {
      "text/plain": [
       "torch.Size([10291, 768])"
      ]
     },
     "execution_count": 3,
     "metadata": {},
     "output_type": "execute_result"
    }
   ],
   "source": [
    "processor = AutoImageProcessor.from_pretrained(\"facebook/dinov2-base\")\n",
    "model = AutoModel.from_pretrained(\"facebook/dinov2-base\").to(device)\n",
    "dataloader = torch.utils.data.DataLoader(\n",
    "    crops_dataset.with_transform(\n",
    "        lambda x: processor(images=x['crops'], return_tensors=\"pt\")\n",
    "    ),\n",
    "    batch_size=128,\n",
    ")\n",
    "embeddings = generic_map(\n",
    "    model,\n",
    "    dataloader,\n",
    "    post_proc_fn=lambda x: x.pooler_output,\n",
    "    input_format=\"keyword\",\n",
    "    device=device\n",
    ")\n",
    "embeddings.shape"
   ]
  },
  {
   "cell_type": "code",
   "execution_count": 25,
   "metadata": {},
   "outputs": [],
   "source": [
    "n_clusters = 30\n",
    "preview_size = 5\n",
    "clustering = KMeans(n_clusters=n_clusters).fit(embeddings.cpu().numpy())\n",
    "cluster_labels = clustering.predict(embeddings.cpu().numpy())\n",
    "for cluster_id in range(n_clusters):\n",
    "    indices = np.where(cluster_labels == cluster_id)[0]\n",
    "    # fig, axs = plt.subplots(1, preview_size, figsize=(20, 2))\n",
    "    # for ax, i in zip(axs, indices):\n",
    "    #     display_im = crops_dataset[int(i)][\"crops\"].resize((80, 80))\n",
    "    #     ax.imshow(display_im)\n",
    "    #     ax.axis(\"off\")"
   ]
  },
  {
   "cell_type": "code",
   "execution_count": 26,
   "metadata": {},
   "outputs": [],
   "source": [
    "local_encoding = np.zeros((len(image_dataset), n_clusters))\n",
    "for i in range(n_clusters):\n",
    "    crop_indices = np.where(clustering.labels_ == i)[0]\n",
    "    image_indices, _, _ = np.strings.partition(crops_dataset[crop_indices]['index'], \"_\")\n",
    "    local_encoding[np.unique(image_indices).astype(int), i] = 1"
   ]
  },
  {
   "cell_type": "code",
   "execution_count": 27,
   "metadata": {},
   "outputs": [
    {
     "data": {
      "text/plain": [
       "array([[0., 0., 1., ..., 1., 0., 1.],\n",
       "       [1., 0., 0., ..., 0., 0., 0.],\n",
       "       [0., 1., 0., ..., 0., 1., 0.],\n",
       "       ...,\n",
       "       [0., 0., 1., ..., 0., 0., 0.],\n",
       "       [0., 0., 0., ..., 0., 0., 0.],\n",
       "       [0., 1., 0., ..., 0., 0., 0.]], shape=(2000, 30))"
      ]
     },
     "execution_count": 27,
     "metadata": {},
     "output_type": "execute_result"
    }
   ],
   "source": [
    "local_encoding"
   ]
  },
  {
   "cell_type": "code",
   "execution_count": 28,
   "metadata": {},
   "outputs": [
    {
     "data": {
      "text/html": [
       "Tracking run with wandb version 0.19.6"
      ],
      "text/plain": [
       "<IPython.core.display.HTML object>"
      ]
     },
     "metadata": {},
     "output_type": "display_data"
    },
    {
     "data": {
      "text/html": [
       "Run data is saved locally in <code>/blue/thai/hoangx/projects/explain-representation/wandb/run-20250212_025607-t80rkkc5</code>"
      ],
      "text/plain": [
       "<IPython.core.display.HTML object>"
      ]
     },
     "metadata": {},
     "output_type": "display_data"
    },
    {
     "data": {
      "text/html": [
       "Syncing run <strong><a href='https://wandb.ai/nhathcmus/explain-representation/runs/t80rkkc5' target=\"_blank\">wild-dew-73</a></strong> to <a href='https://wandb.ai/nhathcmus/explain-representation' target=\"_blank\">Weights & Biases</a> (<a href='https://wandb.me/developer-guide' target=\"_blank\">docs</a>)<br>"
      ],
      "text/plain": [
       "<IPython.core.display.HTML object>"
      ]
     },
     "metadata": {},
     "output_type": "display_data"
    },
    {
     "data": {
      "text/html": [
       " View project at <a href='https://wandb.ai/nhathcmus/explain-representation' target=\"_blank\">https://wandb.ai/nhathcmus/explain-representation</a>"
      ],
      "text/plain": [
       "<IPython.core.display.HTML object>"
      ]
     },
     "metadata": {},
     "output_type": "display_data"
    },
    {
     "data": {
      "text/html": [
       " View run at <a href='https://wandb.ai/nhathcmus/explain-representation/runs/t80rkkc5' target=\"_blank\">https://wandb.ai/nhathcmus/explain-representation/runs/t80rkkc5</a>"
      ],
      "text/plain": [
       "<IPython.core.display.HTML object>"
      ]
     },
     "metadata": {},
     "output_type": "display_data"
    }
   ],
   "source": [
    "from dotenv import dotenv_values\n",
    "\n",
    "local_config = dotenv_values(\".env\")\n",
    "\n",
    "run = wandb.init(\n",
    "    project=local_config[\"WANDB_PROJECT\"],\n",
    "    config={\n",
    "        \"job_type\": \"concept-generation\",\n",
    "    },\n",
    "    save_code=False,\n",
    ")\n",
    "\n",
    "save_tensor(\n",
    "    torch.from_numpy(local_encoding),\n",
    "    base_name=\"imagenet\",\n",
    "    phase=\"local-encoding\",\n",
    "    model_name=f\"kmeans-{n_clusters}\",\n",
    "    wandb_run=run,\n",
    ")"
   ]
  },
  {
   "cell_type": "code",
   "execution_count": 29,
   "metadata": {},
   "outputs": [
    {
     "data": {
      "text/html": [],
      "text/plain": [
       "<IPython.core.display.HTML object>"
      ]
     },
     "metadata": {},
     "output_type": "display_data"
    },
    {
     "data": {
      "text/html": [
       " View run <strong style=\"color:#cdcd00\">wild-dew-73</strong> at: <a href='https://wandb.ai/nhathcmus/explain-representation/runs/t80rkkc5' target=\"_blank\">https://wandb.ai/nhathcmus/explain-representation/runs/t80rkkc5</a><br> View project at: <a href='https://wandb.ai/nhathcmus/explain-representation' target=\"_blank\">https://wandb.ai/nhathcmus/explain-representation</a><br>Synced 5 W&B file(s), 0 media file(s), 2 artifact file(s) and 0 other file(s)"
      ],
      "text/plain": [
       "<IPython.core.display.HTML object>"
      ]
     },
     "metadata": {},
     "output_type": "display_data"
    },
    {
     "data": {
      "text/html": [
       "Find logs at: <code>./wandb/run-20250212_025607-t80rkkc5/logs</code>"
      ],
      "text/plain": [
       "<IPython.core.display.HTML object>"
      ]
     },
     "metadata": {},
     "output_type": "display_data"
    }
   ],
   "source": [
    "wandb.finish()"
   ]
  }
 ],
 "metadata": {
  "kernelspec": {
   "display_name": "exrep",
   "language": "python",
   "name": "python3"
  },
  "language_info": {
   "codemirror_mode": {
    "name": "ipython",
    "version": 3
   },
   "file_extension": ".py",
   "mimetype": "text/x-python",
   "name": "python",
   "nbconvert_exporter": "python",
   "pygments_lexer": "ipython3",
   "version": "3.12.8"
  }
 },
 "nbformat": 4,
 "nbformat_minor": 2
}
